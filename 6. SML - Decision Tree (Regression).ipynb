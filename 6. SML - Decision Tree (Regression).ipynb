{
 "cells": [
  {
   "cell_type": "markdown",
   "metadata": {},
   "source": [
    "# Decision Tree (Regression)\n",
    "\n",
    "Data Source: [NIST StRD](\"https://www.itl.nist.gov/div898/strd/lls/data/LINKS/DATA/Longley.dat\")\n",
    "\n",
    "**Data Attributes**\n",
    "- Employed: Total Employment\n",
    "- GNP.deflator: GNP deflator\n",
    "- GNP: GNP\n",
    "- Unemployed: Number of unemployed\n",
    "- Armed.Forces: Size of armed forces\n",
    "- Population: Population\n",
    "- Year: Year(1947-1962)"
   ]
  },
  {
   "cell_type": "code",
   "execution_count": 1,
   "metadata": {},
   "outputs": [],
   "source": [
    "# Importing the necessary packages\n",
    "import numpy as np\n",
    "import pandas as pd\n",
    "from sklearn.model_selection import train_test_split\n",
    "from sklearn.tree import DecisionTreeRegressor, export_graphviz\n",
    "from sklearn import tree\n",
    "from sklearn.neighbors import KNeighborsRegressor\n",
    "from sklearn import linear_model\n",
    "import graphviz\n",
    "from math import sqrt\n",
    "from sklearn.metrics import mean_squared_error\n",
    "import matplotlib.pyplot as plt\n",
    "import warnings\n",
    "warnings.filterwarnings(\"ignore\")"
   ]
  },
  {
   "cell_type": "code",
   "execution_count": 2,
   "metadata": {},
   "outputs": [
    {
     "data": {
      "text/html": [
       "<div>\n",
       "<style scoped>\n",
       "    .dataframe tbody tr th:only-of-type {\n",
       "        vertical-align: middle;\n",
       "    }\n",
       "\n",
       "    .dataframe tbody tr th {\n",
       "        vertical-align: top;\n",
       "    }\n",
       "\n",
       "    .dataframe thead th {\n",
       "        text-align: right;\n",
       "    }\n",
       "</style>\n",
       "<table border=\"1\" class=\"dataframe\">\n",
       "  <thead>\n",
       "    <tr style=\"text-align: right;\">\n",
       "      <th></th>\n",
       "      <th>y</th>\n",
       "      <th>x1</th>\n",
       "      <th>x2</th>\n",
       "      <th>x3</th>\n",
       "      <th>x4</th>\n",
       "      <th>x5</th>\n",
       "      <th>x6</th>\n",
       "    </tr>\n",
       "  </thead>\n",
       "  <tbody>\n",
       "    <tr>\n",
       "      <th>0</th>\n",
       "      <td>60323</td>\n",
       "      <td>83.0</td>\n",
       "      <td>234289</td>\n",
       "      <td>2356</td>\n",
       "      <td>1590</td>\n",
       "      <td>107608</td>\n",
       "      <td>1947</td>\n",
       "    </tr>\n",
       "    <tr>\n",
       "      <th>1</th>\n",
       "      <td>61122</td>\n",
       "      <td>88.5</td>\n",
       "      <td>259426</td>\n",
       "      <td>2325</td>\n",
       "      <td>1456</td>\n",
       "      <td>108632</td>\n",
       "      <td>1948</td>\n",
       "    </tr>\n",
       "    <tr>\n",
       "      <th>2</th>\n",
       "      <td>60171</td>\n",
       "      <td>88.2</td>\n",
       "      <td>258054</td>\n",
       "      <td>3682</td>\n",
       "      <td>1616</td>\n",
       "      <td>109773</td>\n",
       "      <td>1949</td>\n",
       "    </tr>\n",
       "    <tr>\n",
       "      <th>3</th>\n",
       "      <td>61187</td>\n",
       "      <td>89.5</td>\n",
       "      <td>284599</td>\n",
       "      <td>3351</td>\n",
       "      <td>1650</td>\n",
       "      <td>110929</td>\n",
       "      <td>1950</td>\n",
       "    </tr>\n",
       "    <tr>\n",
       "      <th>4</th>\n",
       "      <td>63221</td>\n",
       "      <td>96.2</td>\n",
       "      <td>328975</td>\n",
       "      <td>2099</td>\n",
       "      <td>3099</td>\n",
       "      <td>112075</td>\n",
       "      <td>1951</td>\n",
       "    </tr>\n",
       "  </tbody>\n",
       "</table>\n",
       "</div>"
      ],
      "text/plain": [
       "       y    x1      x2    x3    x4      x5    x6\n",
       "0  60323  83.0  234289  2356  1590  107608  1947\n",
       "1  61122  88.5  259426  2325  1456  108632  1948\n",
       "2  60171  88.2  258054  3682  1616  109773  1949\n",
       "3  61187  89.5  284599  3351  1650  110929  1950\n",
       "4  63221  96.2  328975  2099  3099  112075  1951"
      ]
     },
     "execution_count": 2,
     "metadata": {},
     "output_type": "execute_result"
    }
   ],
   "source": [
    "# Reading the dataset\n",
    "longley = pd.read_csv(\"./longley/longley.csv\")\n",
    "longley.head()"
   ]
  },
  {
   "cell_type": "code",
   "execution_count": 3,
   "metadata": {},
   "outputs": [
    {
     "data": {
      "text/html": [
       "<div>\n",
       "<style scoped>\n",
       "    .dataframe tbody tr th:only-of-type {\n",
       "        vertical-align: middle;\n",
       "    }\n",
       "\n",
       "    .dataframe tbody tr th {\n",
       "        vertical-align: top;\n",
       "    }\n",
       "\n",
       "    .dataframe thead th {\n",
       "        text-align: right;\n",
       "    }\n",
       "</style>\n",
       "<table border=\"1\" class=\"dataframe\">\n",
       "  <thead>\n",
       "    <tr style=\"text-align: right;\">\n",
       "      <th></th>\n",
       "      <th>employed</th>\n",
       "      <th>gnp.deflator</th>\n",
       "      <th>gnp</th>\n",
       "      <th>unemployed</th>\n",
       "      <th>armed.forces</th>\n",
       "      <th>population</th>\n",
       "      <th>year</th>\n",
       "    </tr>\n",
       "  </thead>\n",
       "  <tbody>\n",
       "    <tr>\n",
       "      <th>0</th>\n",
       "      <td>60323</td>\n",
       "      <td>83.0</td>\n",
       "      <td>234289</td>\n",
       "      <td>2356</td>\n",
       "      <td>1590</td>\n",
       "      <td>107608</td>\n",
       "      <td>1947</td>\n",
       "    </tr>\n",
       "    <tr>\n",
       "      <th>1</th>\n",
       "      <td>61122</td>\n",
       "      <td>88.5</td>\n",
       "      <td>259426</td>\n",
       "      <td>2325</td>\n",
       "      <td>1456</td>\n",
       "      <td>108632</td>\n",
       "      <td>1948</td>\n",
       "    </tr>\n",
       "    <tr>\n",
       "      <th>2</th>\n",
       "      <td>60171</td>\n",
       "      <td>88.2</td>\n",
       "      <td>258054</td>\n",
       "      <td>3682</td>\n",
       "      <td>1616</td>\n",
       "      <td>109773</td>\n",
       "      <td>1949</td>\n",
       "    </tr>\n",
       "    <tr>\n",
       "      <th>3</th>\n",
       "      <td>61187</td>\n",
       "      <td>89.5</td>\n",
       "      <td>284599</td>\n",
       "      <td>3351</td>\n",
       "      <td>1650</td>\n",
       "      <td>110929</td>\n",
       "      <td>1950</td>\n",
       "    </tr>\n",
       "    <tr>\n",
       "      <th>4</th>\n",
       "      <td>63221</td>\n",
       "      <td>96.2</td>\n",
       "      <td>328975</td>\n",
       "      <td>2099</td>\n",
       "      <td>3099</td>\n",
       "      <td>112075</td>\n",
       "      <td>1951</td>\n",
       "    </tr>\n",
       "  </tbody>\n",
       "</table>\n",
       "</div>"
      ],
      "text/plain": [
       "   employed  gnp.deflator     gnp  unemployed  armed.forces  population  year\n",
       "0     60323          83.0  234289        2356          1590      107608  1947\n",
       "1     61122          88.5  259426        2325          1456      108632  1948\n",
       "2     60171          88.2  258054        3682          1616      109773  1949\n",
       "3     61187          89.5  284599        3351          1650      110929  1950\n",
       "4     63221          96.2  328975        2099          3099      112075  1951"
      ]
     },
     "execution_count": 3,
     "metadata": {},
     "output_type": "execute_result"
    }
   ],
   "source": [
    "# Renaming the columns as per data attributes from the source\n",
    "longley.columns = [\"employed\", \"gnp.deflator\", \"gnp\", \"unemployed\", \"armed.forces\", \"population\", \"year\"]\n",
    "longley.head()"
   ]
  },
  {
   "cell_type": "code",
   "execution_count": 4,
   "metadata": {},
   "outputs": [
    {
     "name": "stdout",
     "output_type": "stream",
     "text": [
      "Dimenions of dataset are:  (16, 7)\n",
      "The number of variables present in dataset are: \n",
      " Index(['employed', 'gnp.deflator', 'gnp', 'unemployed', 'armed.forces',\n",
      "       'population', 'year'],\n",
      "      dtype='object')\n"
     ]
    }
   ],
   "source": [
    "# Display the characteristics of dataset\n",
    "print(\"Dimenions of dataset are: \", longley.shape)\n",
    "print(\"The number of variables present in dataset are: \\n\", longley.columns)"
   ]
  },
  {
   "cell_type": "code",
   "execution_count": 5,
   "metadata": {},
   "outputs": [
    {
     "name": "stdout",
     "output_type": "stream",
     "text": [
      "Null values present in dataset are: \n",
      " employed        0\n",
      "gnp.deflator    0\n",
      "gnp             0\n",
      "unemployed      0\n",
      "armed.forces    0\n",
      "population      0\n",
      "year            0\n",
      "dtype: int64\n",
      "Not available values in dataset are: \n",
      " employed        0\n",
      "gnp.deflator    0\n",
      "gnp             0\n",
      "unemployed      0\n",
      "armed.forces    0\n",
      "population      0\n",
      "year            0\n",
      "dtype: int64\n"
     ]
    }
   ],
   "source": [
    "# Check for null and not available values\n",
    "print(\"Null values present in dataset are: \\n\", longley.isnull().sum())\n",
    "print(\"Not available values in dataset are: \\n\", longley.isna().sum())"
   ]
  },
  {
   "cell_type": "code",
   "execution_count": 6,
   "metadata": {},
   "outputs": [],
   "source": [
    "# Using seed function to generate the same set of data\n",
    "np.random.seed(3000)"
   ]
  },
  {
   "cell_type": "code",
   "execution_count": 7,
   "metadata": {},
   "outputs": [],
   "source": [
    "# Train-Test split of both independent and dependent features\n",
    "training, test = train_test_split(longley, test_size = 0.3)\n",
    "\n",
    "x_trg = training.drop(\"employed\", axis = 1)\n",
    "y_trg = training[\"employed\"]\n",
    "\n",
    "x_test = test.drop(\"employed\", axis = 1)\n",
    "y_test = test[\"employed\"]"
   ]
  },
  {
   "cell_type": "markdown",
   "metadata": {},
   "source": [
    "### Model Builiding - DT model"
   ]
  },
  {
   "cell_type": "code",
   "execution_count": 8,
   "metadata": {},
   "outputs": [
    {
     "data": {
      "text/plain": [
       "DecisionTreeRegressor(random_state=0)"
      ]
     },
     "execution_count": 8,
     "metadata": {},
     "output_type": "execute_result"
    }
   ],
   "source": [
    "# Model building\n",
    "tree_longley = DecisionTreeRegressor(random_state = 0)\n",
    "\n",
    "# Fit the model\n",
    "tree_longley.fit(x_trg, y_trg)"
   ]
  },
  {
   "cell_type": "code",
   "execution_count": 9,
   "metadata": {},
   "outputs": [
    {
     "name": "stdout",
     "output_type": "stream",
     "text": [
      "The importance of features of DT model for the dataset is: \n",
      " [1.52837434e-02 7.31292815e-01 1.30396594e-04 0.00000000e+00\n",
      " 9.71814107e-02 1.56111634e-01]\n"
     ]
    }
   ],
   "source": [
    "# Determine the importance of predictor variables\n",
    "print(\"The importance of features of DT model for the dataset is: \\n\", tree_longley.feature_importances_)"
   ]
  },
  {
   "cell_type": "code",
   "execution_count": 10,
   "metadata": {},
   "outputs": [],
   "source": [
    "# Visual representation of DT algorithm\n",
    "export_graphviz(tree_longley, out_file = \"./longley/longley.dot\", feature_names = x_trg.columns,\n",
    "               impurity = False, filled = True)"
   ]
  },
  {
   "cell_type": "code",
   "execution_count": 11,
   "metadata": {},
   "outputs": [
    {
     "data": {
      "text/plain": [
       "array([68169., 68655., 66019., 68655., 68655.])"
      ]
     },
     "execution_count": 11,
     "metadata": {},
     "output_type": "execute_result"
    }
   ],
   "source": [
    "# Prediction on test dataset\n",
    "tree_pred = tree_longley.predict(x_test)\n",
    "tree_pred"
   ]
  },
  {
   "cell_type": "code",
   "execution_count": 12,
   "metadata": {},
   "outputs": [
    {
     "name": "stdout",
     "output_type": "stream",
     "text": [
      "The RMSE for DT model is: 1483.149\n"
     ]
    }
   ],
   "source": [
    "# Calculate the RMSE for the model\n",
    "tree_rmse = sqrt(mean_squared_error(y_test, tree_pred))\n",
    "print(\"The RMSE for DT model is: %0.3f\" % tree_rmse)"
   ]
  },
  {
   "cell_type": "markdown",
   "metadata": {},
   "source": [
    "### Model Building - DT model (new)"
   ]
  },
  {
   "cell_type": "code",
   "execution_count": 13,
   "metadata": {},
   "outputs": [
    {
     "data": {
      "text/plain": [
       "DecisionTreeRegressor(max_depth=3, random_state=0)"
      ]
     },
     "execution_count": 13,
     "metadata": {},
     "output_type": "execute_result"
    }
   ],
   "source": [
    "# Creating a new DT model for speicified depth\n",
    "tree_longley_1 = DecisionTreeRegressor(max_depth = 3, random_state = 0)\n",
    "\n",
    "# Fit the new DT model\n",
    "tree_longley_1.fit(x_trg, y_trg)"
   ]
  },
  {
   "cell_type": "code",
   "execution_count": 14,
   "metadata": {},
   "outputs": [],
   "source": [
    "# Visual representation with specified depth\n",
    "export_graphviz(tree_longley_1, out_file = \"./longley/tree_longley_1.dot\", feature_names = x_trg.columns,\n",
    "               impurity = False, filled = True)"
   ]
  },
  {
   "cell_type": "code",
   "execution_count": 15,
   "metadata": {},
   "outputs": [
    {
     "data": {
      "image/png": "[encoded data removed]",
      "text/plain": [
       "<Figure size 720x360 with 1 Axes>"
      ]
     },
     "metadata": {
      "needs_background": "light"
     },
     "output_type": "display_data"
    }
   ],
   "source": [
    "# Display the importance of each variable in new DT model\n",
    "plt.figure(1, figsize = (10, 5))\n",
    "plt.yticks(range(0,6), x_trg.columns)\n",
    "plt.barh(range(0,6), tree_longley_1.feature_importances_, align = \"center\")\n",
    "plt.xlabel(\"Coefficient\")\n",
    "plt.ylabel(\"Value\")\n",
    "plt.show()"
   ]
  },
  {
   "cell_type": "code",
   "execution_count": 16,
   "metadata": {},
   "outputs": [
    {
     "data": {
      "text/plain": [
       "array([68169., 68655., 66019., 68655., 68655.])"
      ]
     },
     "execution_count": 16,
     "metadata": {},
     "output_type": "execute_result"
    }
   ],
   "source": [
    "# Prediction via new DT model\n",
    "tree_pred_2 = tree_longley_1.predict(x_test)\n",
    "tree_pred_2"
   ]
  },
  {
   "cell_type": "code",
   "execution_count": 17,
   "metadata": {},
   "outputs": [
    {
     "name": "stdout",
     "output_type": "stream",
     "text": [
      "The RMSE of new DT model is: 1483.149\n"
     ]
    }
   ],
   "source": [
    "# Calculate the RMSE for new DT model\n",
    "tree_rmse_2 = sqrt(mean_squared_error(y_test, tree_pred_2))\n",
    "print(\"The RMSE of new DT model is: %0.3f\" % tree_rmse_2)"
   ]
  },
  {
   "cell_type": "markdown",
   "metadata": {},
   "source": [
    "#### Compare DT models with kNN model"
   ]
  },
  {
   "cell_type": "code",
   "execution_count": 18,
   "metadata": {},
   "outputs": [
    {
     "name": "stdout",
     "output_type": "stream",
     "text": [
      "The RMSE of kNN model is: 1483.149\n",
      "The RMSE of kNN model is: 1478.875\n",
      "The RMSE of kNN model is: 1935.476\n",
      "The RMSE of kNN model is: 2450.920\n",
      "The RMSE of kNN model is: 2825.769\n",
      "The RMSE of kNN model is: 3219.928\n",
      "The RMSE of kNN model is: 3563.880\n",
      "The RMSE of kNN model is: 4063.408\n",
      "The RMSE of kNN model is: 4465.021\n",
      "The RMSE of kNN model is: 4880.253\n",
      "\n",
      "\n",
      "The least RMSE for kNN model is: 1478.875\n"
     ]
    },
    {
     "data": {
      "text/plain": [
       "<AxesSubplot:>"
      ]
     },
     "execution_count": 18,
     "metadata": {},
     "output_type": "execute_result"
    },
    {
     "data": {
      "image/png": "[encoded data removed]",
      "text/plain": [
       "<Figure size 432x288 with 1 Axes>"
      ]
     },
     "metadata": {
      "needs_background": "light"
     },
     "output_type": "display_data"
    }
   ],
   "source": [
    "# Model building - kNN\n",
    "knn_rmselist = []\n",
    "for K in range(10):\n",
    "    K = K + 1\n",
    "    # Model building\n",
    "    knn_longley = KNeighborsRegressor(n_neighbors = K)\n",
    "    \n",
    "    # Fit the model\n",
    "    knn_longley.fit(x_trg, y_trg)\n",
    "    \n",
    "    # Prediction\n",
    "    knn_pred = knn_longley.predict(x_test)\n",
    "    \n",
    "    # Calculate RMSE\n",
    "    knn_rmse = sqrt(mean_squared_error(y_test, knn_pred))\n",
    "    \n",
    "    print(\"The RMSE of kNN model is: %0.3f\" %knn_rmse)\n",
    "    \n",
    "    knn_rmselist.append(knn_rmse)\n",
    "print(\"\\n\")\n",
    "print(\"The least RMSE for kNN model is: %0.3f\" %min(knn_rmselist))\n",
    "\n",
    "# Visualization\n",
    "curve = pd.DataFrame(knn_rmselist)\n",
    "curve.plot()"
   ]
  },
  {
   "cell_type": "markdown",
   "metadata": {},
   "source": [
    "#### Compare DT models with Linear Rergression model"
   ]
  },
  {
   "cell_type": "code",
   "execution_count": 19,
   "metadata": {},
   "outputs": [
    {
     "name": "stdout",
     "output_type": "stream",
     "text": [
      "Coefficent of independent variables in the model are: \n",
      " [-2.34589916e+01 -4.73623078e-03 -1.51770957e+00 -7.18819381e-01\n",
      "  2.93957993e-01  7.27599986e+02]\n",
      "Intercept in the model is:  -1380259.1919507803\n",
      "The RMSE for Linear Regression model is: 802.861\n"
     ]
    }
   ],
   "source": [
    "# Model Buildin\n",
    "lm_longley = linear_model.LinearRegression()\n",
    "\n",
    "# Fit the model\n",
    "lm_longley.fit(x_trg, y_trg)\n",
    "\n",
    "# Prediction\n",
    "lm_pred = lm_longley.predict(x_test)\n",
    "\n",
    "# Coefficient & Intercept\n",
    "print(\"Coefficent of independent variables in the model are: \\n\", lm_longley.coef_)\n",
    "print(\"Intercept in the model is: \", lm_longley.intercept_)\n",
    "\n",
    "# Calculate the RMSE\n",
    "lm_rmse = sqrt(mean_squared_error(y_test, lm_pred))\n",
    "print(\"The RMSE for Linear Regression model is: %0.3f\" %lm_rmse)"
   ]
  },
  {
   "cell_type": "markdown",
   "metadata": {},
   "source": [
    "Upon checking the peformances of models built, The Linear Regression model is best."
   ]
  },
  {
   "cell_type": "code",
   "execution_count": null,
   "metadata": {},
   "outputs": [],
   "source": []
  }
 ],
 "metadata": {
  "kernelspec": {
   "display_name": "Python 3",
   "language": "python",
   "name": "python3"
  },
  "language_info": {
   "codemirror_mode": {
    "name": "ipython",
    "version": 3
   },
   "file_extension": ".py",
   "mimetype": "text/x-python",
   "name": "python",
   "nbconvert_exporter": "python",
   "pygments_lexer": "ipython3",
   "version": "3.8.6"
  }
 },
 "nbformat": 4,
 "nbformat_minor": 4
}
