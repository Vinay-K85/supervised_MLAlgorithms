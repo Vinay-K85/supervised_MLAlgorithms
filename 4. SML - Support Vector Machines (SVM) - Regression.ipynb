{
 "cells": [
  {
   "cell_type": "markdown",
   "metadata": {},
   "source": [
    "# Support Vector Machines (SVM) - Regression\n",
    "\n",
    "Data Source: [Protein](\"https://archive.ics.uci.edu/ml/datasets/Physicochemical+Properties+of+Protein+Tertiary+Structure\")\n",
    "\n",
    "**Attributes**\n",
    "- RMSD-Size of the residue.\n",
    "- F1 - Total surface area.\n",
    "- F2 - Non polar exposed area.\n",
    "- F3 - Fractional area of exposed non polar residue.\n",
    "- F4 - Fractional area of exposed non polar part of residue.\n",
    "- F5 - Molecular mass weighted exposed area.\n",
    "- F6 - Average deviation from standard exposed area of residue.\n",
    "- F7 - Euclidian distance.\n",
    "- F8 - Secondary structure penalty.\n",
    "- F9 - Spacial Distribution constraints (N,K Value).\n",
    "\n",
    "Dependent variable = RMSD\n",
    "Independent variables = F1, F2, F3, F4, F5, F6, F7, F8, F9"
   ]
  },
  {
   "cell_type": "code",
   "execution_count": 1,
   "metadata": {},
   "outputs": [],
   "source": [
    "# Importing the necessary packages\n",
    "import pandas as pd\n",
    "import numpy as np\n",
    "from sklearn.svm import LinearSVR\n",
    "from sklearn.tree import DecisionTreeRegressor\n",
    "from sklearn.neighbors import KNeighborsRegressor\n",
    "from sklearn import linear_model\n",
    "from sklearn.metrics import mean_squared_error\n",
    "from sklearn.model_selection import train_test_split\n",
    "from math import sqrt\n",
    "\n",
    "import warnings\n",
    "warnings.filterwarnings(\"ignore\")"
   ]
  },
  {
   "cell_type": "code",
   "execution_count": 2,
   "metadata": {},
   "outputs": [
    {
     "data": {
      "text/html": [
       "<div>\n",
       "<style scoped>\n",
       "    .dataframe tbody tr th:only-of-type {\n",
       "        vertical-align: middle;\n",
       "    }\n",
       "\n",
       "    .dataframe tbody tr th {\n",
       "        vertical-align: top;\n",
       "    }\n",
       "\n",
       "    .dataframe thead th {\n",
       "        text-align: right;\n",
       "    }\n",
       "</style>\n",
       "<table border=\"1\" class=\"dataframe\">\n",
       "  <thead>\n",
       "    <tr style=\"text-align: right;\">\n",
       "      <th></th>\n",
       "      <th>RMSD</th>\n",
       "      <th>F1</th>\n",
       "      <th>F2</th>\n",
       "      <th>F3</th>\n",
       "      <th>F4</th>\n",
       "      <th>F5</th>\n",
       "      <th>F6</th>\n",
       "      <th>F7</th>\n",
       "      <th>F8</th>\n",
       "      <th>F9</th>\n",
       "    </tr>\n",
       "  </thead>\n",
       "  <tbody>\n",
       "    <tr>\n",
       "      <th>0</th>\n",
       "      <td>17.284</td>\n",
       "      <td>13558.30</td>\n",
       "      <td>4305.35</td>\n",
       "      <td>0.31754</td>\n",
       "      <td>162.1730</td>\n",
       "      <td>1.872791e+06</td>\n",
       "      <td>215.3590</td>\n",
       "      <td>4287.87</td>\n",
       "      <td>102</td>\n",
       "      <td>27.0302</td>\n",
       "    </tr>\n",
       "    <tr>\n",
       "      <th>1</th>\n",
       "      <td>6.021</td>\n",
       "      <td>6191.96</td>\n",
       "      <td>1623.16</td>\n",
       "      <td>0.26213</td>\n",
       "      <td>53.3894</td>\n",
       "      <td>8.034467e+05</td>\n",
       "      <td>87.2024</td>\n",
       "      <td>3328.91</td>\n",
       "      <td>39</td>\n",
       "      <td>38.5468</td>\n",
       "    </tr>\n",
       "    <tr>\n",
       "      <th>2</th>\n",
       "      <td>9.275</td>\n",
       "      <td>7725.98</td>\n",
       "      <td>1726.28</td>\n",
       "      <td>0.22343</td>\n",
       "      <td>67.2887</td>\n",
       "      <td>1.075648e+06</td>\n",
       "      <td>81.7913</td>\n",
       "      <td>2981.04</td>\n",
       "      <td>29</td>\n",
       "      <td>38.8119</td>\n",
       "    </tr>\n",
       "    <tr>\n",
       "      <th>3</th>\n",
       "      <td>15.851</td>\n",
       "      <td>8424.58</td>\n",
       "      <td>2368.25</td>\n",
       "      <td>0.28111</td>\n",
       "      <td>67.8325</td>\n",
       "      <td>1.210472e+06</td>\n",
       "      <td>109.4390</td>\n",
       "      <td>3248.22</td>\n",
       "      <td>70</td>\n",
       "      <td>39.0651</td>\n",
       "    </tr>\n",
       "    <tr>\n",
       "      <th>4</th>\n",
       "      <td>7.962</td>\n",
       "      <td>7460.84</td>\n",
       "      <td>1736.94</td>\n",
       "      <td>0.23280</td>\n",
       "      <td>52.4123</td>\n",
       "      <td>1.021020e+06</td>\n",
       "      <td>94.5234</td>\n",
       "      <td>2814.42</td>\n",
       "      <td>41</td>\n",
       "      <td>39.9147</td>\n",
       "    </tr>\n",
       "  </tbody>\n",
       "</table>\n",
       "</div>"
      ],
      "text/plain": [
       "     RMSD        F1       F2       F3        F4            F5        F6  \\\n",
       "0  17.284  13558.30  4305.35  0.31754  162.1730  1.872791e+06  215.3590   \n",
       "1   6.021   6191.96  1623.16  0.26213   53.3894  8.034467e+05   87.2024   \n",
       "2   9.275   7725.98  1726.28  0.22343   67.2887  1.075648e+06   81.7913   \n",
       "3  15.851   8424.58  2368.25  0.28111   67.8325  1.210472e+06  109.4390   \n",
       "4   7.962   7460.84  1736.94  0.23280   52.4123  1.021020e+06   94.5234   \n",
       "\n",
       "        F7   F8       F9  \n",
       "0  4287.87  102  27.0302  \n",
       "1  3328.91   39  38.5468  \n",
       "2  2981.04   29  38.8119  \n",
       "3  3248.22   70  39.0651  \n",
       "4  2814.42   41  39.9147  "
      ]
     },
     "execution_count": 2,
     "metadata": {},
     "output_type": "execute_result"
    }
   ],
   "source": [
    "# Loading the dataset\n",
    "protein = pd.read_csv(\"./protein/CASP.csv\")\n",
    "protein.head()"
   ]
  },
  {
   "cell_type": "code",
   "execution_count": 3,
   "metadata": {},
   "outputs": [
    {
     "name": "stdout",
     "output_type": "stream",
     "text": [
      "Dimensions of the dataset is:  (45730, 10)\n",
      "The variables present in dataset are: \n",
      " Index(['RMSD', 'F1', 'F2', 'F3', 'F4', 'F5', 'F6', 'F7', 'F8', 'F9'], dtype='object')\n"
     ]
    }
   ],
   "source": [
    "# Display the characteristics of protein dataset\n",
    "print(\"Dimensions of the dataset is: \", protein.shape)\n",
    "print(\"The variables present in dataset are: \\n\", protein.columns)"
   ]
  },
  {
   "cell_type": "code",
   "execution_count": 4,
   "metadata": {},
   "outputs": [
    {
     "name": "stdout",
     "output_type": "stream",
     "text": [
      "Null values in the dataset are: \n",
      " RMSD    0\n",
      "F1      0\n",
      "F2      0\n",
      "F3      0\n",
      "F4      0\n",
      "F5      0\n",
      "F6      0\n",
      "F7      0\n",
      "F8      0\n",
      "F9      0\n",
      "dtype: int64\n",
      "Not available values in the dataset are: \n",
      " RMSD    0\n",
      "F1      0\n",
      "F2      0\n",
      "F3      0\n",
      "F4      0\n",
      "F5      0\n",
      "F6      0\n",
      "F7      0\n",
      "F8      0\n",
      "F9      0\n",
      "dtype: int64\n"
     ]
    }
   ],
   "source": [
    "# Verify the missing values\n",
    "print(\"Null values in the dataset are: \\n\", protein.isnull().sum())\n",
    "print(\"Not available values in the dataset are: \\n\", protein.isna().sum())"
   ]
  },
  {
   "cell_type": "code",
   "execution_count": 5,
   "metadata": {},
   "outputs": [],
   "source": [
    "# Using random seed function to generate the same dataset\n",
    "np.random.seed(3000)"
   ]
  },
  {
   "cell_type": "code",
   "execution_count": 6,
   "metadata": {},
   "outputs": [],
   "source": [
    "# Train-Test Split for both independent and dependent features\n",
    "training, test = train_test_split(protein, test_size = 0.3)\n",
    "\n",
    "x_trg = training.drop(\"RMSD\", axis = 1)\n",
    "y_trg = training[\"RMSD\"]\n",
    "\n",
    "x_test = test.drop(\"RMSD\", axis = 1)\n",
    "y_test = test[\"RMSD\"]"
   ]
  },
  {
   "cell_type": "markdown",
   "metadata": {},
   "source": [
    "### Model Building - SVM"
   ]
  },
  {
   "cell_type": "code",
   "execution_count": 7,
   "metadata": {},
   "outputs": [
    {
     "name": "stdout",
     "output_type": "stream",
     "text": [
      "RMSE value for SVM model is: 10.491\n"
     ]
    }
   ],
   "source": [
    "svm_protein = LinearSVR(random_state = 0)\n",
    "\n",
    "# Fitting the model\n",
    "svm_protein.fit(x_trg, y_trg)\n",
    "\n",
    "# Prediction on test set\n",
    "svm_pred = svm_protein.predict(x_test)\n",
    "\n",
    "# Calculate the RMSE for the model\n",
    "svm_rmse = sqrt(mean_squared_error(y_test, svm_pred))\n",
    "print(\"RMSE value for SVM model is: %0.3f\" % svm_rmse)"
   ]
  },
  {
   "cell_type": "markdown",
   "metadata": {},
   "source": [
    "### Compare with k-NN model"
   ]
  },
  {
   "cell_type": "code",
   "execution_count": 8,
   "metadata": {},
   "outputs": [
    {
     "name": "stdout",
     "output_type": "stream",
     "text": [
      "RMSE value for kNN model is: 7.038\n",
      "RMSE value for kNN model is: 6.327\n",
      "RMSE value for kNN model is: 6.081\n",
      "RMSE value for kNN model is: 5.975\n",
      "RMSE value for kNN model is: 5.915\n",
      "RMSE value for kNN model is: 5.856\n",
      "RMSE value for kNN model is: 5.822\n",
      "RMSE value for kNN model is: 5.809\n",
      "RMSE value for kNN model is: 5.802\n",
      "RMSE value for kNN model is: 5.785\n",
      "RMSE value for kNN model is: 5.779\n",
      "RMSE value for kNN model is: 5.780\n",
      "RMSE value for kNN model is: 5.782\n",
      "RMSE value for kNN model is: 5.782\n",
      "RMSE value for kNN model is: 5.781\n",
      "RMSE value for kNN model is: 5.793\n",
      "RMSE value for kNN model is: 5.794\n",
      "RMSE value for kNN model is: 5.798\n",
      "RMSE value for kNN model is: 5.800\n",
      "RMSE value for kNN model is: 5.802\n",
      "RMSE value for kNN model is: 5.803\n",
      "\n",
      "\n",
      "The least RMSE value using kNN is: 5.779\n"
     ]
    }
   ],
   "source": [
    "# Model Building - kNN\n",
    "knn_rmselist = []\n",
    "\n",
    "for K in range(21):\n",
    "    K = K + 1\n",
    "    # Model building - kNN\n",
    "    knn_protein = KNeighborsRegressor(n_neighbors = K)\n",
    "    \n",
    "    # Fit the model\n",
    "    knn_protein.fit(x_trg, y_trg)\n",
    "    \n",
    "    # Predict via model\n",
    "    knn_pred = knn_protein.predict(x_test)\n",
    "    \n",
    "    # Calculate the RMSE for the model\n",
    "    knn_rmse = sqrt(mean_squared_error(y_test, knn_pred))\n",
    "    print(\"RMSE value for kNN model is: %0.3f\" %knn_rmse)\n",
    "    \n",
    "    knn_rmselist.append(knn_rmse)\n",
    "    \n",
    "print(\"\\n\") \n",
    "print(\"The least RMSE value using kNN is: %0.3f\" %min(knn_rmselist))"
   ]
  },
  {
   "cell_type": "markdown",
   "metadata": {},
   "source": [
    "### Compare with Linear Regression model"
   ]
  },
  {
   "cell_type": "code",
   "execution_count": 9,
   "metadata": {},
   "outputs": [
    {
     "name": "stdout",
     "output_type": "stream",
     "text": [
      "Accuracy of the LR model on training dataset is:  0.2779751481134759\n",
      "Accuracy of the LR model on test dataset is:  0.2921172345489872\n",
      "Coefficient of independent variables in the model is: \n",
      " [ 1.50138602e-03  1.36176886e-03  1.80011149e+01 -1.09646611e-01\n",
      " -3.45693711e-06 -2.30039034e-02 -1.26241391e-04  1.53926026e-02\n",
      " -1.09728772e-01]\n",
      "Intercept in the model is:  6.02666508722966\n",
      "RMSE value of LR model is: 5.155\n"
     ]
    }
   ],
   "source": [
    "# Model Building - Linear Regression\n",
    "lr_protein = linear_model.LinearRegression()\n",
    "\n",
    "# Fit the model\n",
    "lr_protein.fit(x_trg, y_trg)\n",
    "print(\"Accuracy of the LR model on training dataset is: \", lr_protein.score(x_trg, y_trg))\n",
    "print(\"Accuracy of the LR model on test dataset is: \", lr_protein.score(x_test, y_test))\n",
    "\n",
    "# Prediction via model\n",
    "lr_pred = lr_protein.predict(x_test)\n",
    "print(\"Coefficient of independent variables in the model is: \\n\", lr_protein.coef_)\n",
    "print(\"Intercept in the model is: \", lr_protein.intercept_)\n",
    "\n",
    "# Calculate the RMSE for the model\n",
    "lr_rmse = sqrt(mean_squared_error(y_test, lr_pred))\n",
    "print(\"RMSE value of LR model is: %0.3f\" %lr_rmse)"
   ]
  },
  {
   "cell_type": "markdown",
   "metadata": {},
   "source": [
    "The model performances are summarized as below:\n",
    "\n",
    "- SVM = RMSE value - 10.491\n",
    "- kNN = RMSE value - 5.779\n",
    "- LR = RMSE value - 5.155\n",
    "\n",
    "So we can infer here that the best model is Linear Regression model not SVM model."
   ]
  },
  {
   "cell_type": "code",
   "execution_count": null,
   "metadata": {},
   "outputs": [],
   "source": []
  }
 ],
 "metadata": {
  "kernelspec": {
   "display_name": "Python 3",
   "language": "python",
   "name": "python3"
  },
  "language_info": {
   "codemirror_mode": {
    "name": "ipython",
    "version": 3
   },
   "file_extension": ".py",
   "mimetype": "text/x-python",
   "name": "python",
   "nbconvert_exporter": "python",
   "pygments_lexer": "ipython3",
   "version": "3.8.6"
  }
 },
 "nbformat": 4,
 "nbformat_minor": 4
}
