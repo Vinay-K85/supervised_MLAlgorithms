{
 "cells": [
  {
   "cell_type": "markdown",
   "metadata": {},
   "source": [
    "# Decision Tree (Classification)\n",
    "\n",
    "Data Source: [Fertility](\"https://archive.ics.uci.edu/ml/datasets/Fertility\")\n",
    "\n",
    "**Attributes**\n",
    "\n",
    "- Season in which the analysis was performed. 1) winter, 2) spring, 3) Summer, 4) fall. (-1, -0.33, 0.33, 1)\n",
    "- Age at the time of analysis. 18-36 (0, 1)\n",
    "- Childish diseases (ie , chicken pox, measles, mumps, polio) 1) yes, 2) no. (0, 1)\n",
    "- Accident or serious trauma 1) yes, 2) no. (0, 1)\n",
    "- Surgical intervention 1) yes, 2) no. (0, 1)\n",
    "- High fevers in the last year 1) less than three months ago, 2) more than three months ago, 3) no. (-1, 0, 1)\n",
    "- Frequency of alcohol consumption 1) several times a day, 2) every day, 3) several times a week, 4) once a week, 5) hardly ever or never (0, 1)\n",
    "- Smoking habit 1) never, 2) occasional 3) daily. (-1, 0, 1)\n",
    "- Number of hours spent sitting per day ene-16 (0, 1)\n",
    "- Output: Diagnosis normal (N), altered (O) "
   ]
  },
  {
   "cell_type": "code",
   "execution_count": 1,
   "metadata": {},
   "outputs": [],
   "source": [
    "# Import the necessary packages\n",
    "import pandas as pd\n",
    "import numpy as np\n",
    "from sklearn.model_selection import train_test_split\n",
    "from sklearn.neighbors import KNeighborsClassifier\n",
    "from sklearn.metrics import accuracy_score, confusion_matrix, classification_report\n",
    "from sklearn.naive_bayes import GaussianNB\n",
    "from sklearn.linear_model import LogisticRegression\n",
    "from sklearn.tree import DecisionTreeClassifier, export_graphviz\n",
    "from sklearn import tree\n",
    "import graphviz\n",
    "import matplotlib.pyplot as plt\n",
    "\n",
    "import warnings\n",
    "warnings.filterwarnings(\"ignore\")"
   ]
  },
  {
   "cell_type": "code",
   "execution_count": 2,
   "metadata": {},
   "outputs": [
    {
     "data": {
      "text/html": [
       "<div>\n",
       "<style scoped>\n",
       "    .dataframe tbody tr th:only-of-type {\n",
       "        vertical-align: middle;\n",
       "    }\n",
       "\n",
       "    .dataframe tbody tr th {\n",
       "        vertical-align: top;\n",
       "    }\n",
       "\n",
       "    .dataframe thead th {\n",
       "        text-align: right;\n",
       "    }\n",
       "</style>\n",
       "<table border=\"1\" class=\"dataframe\">\n",
       "  <thead>\n",
       "    <tr style=\"text-align: right;\">\n",
       "      <th></th>\n",
       "      <th>-0.33</th>\n",
       "      <th>0.69</th>\n",
       "      <th>0</th>\n",
       "      <th>1</th>\n",
       "      <th>1.1</th>\n",
       "      <th>0.1</th>\n",
       "      <th>0.8</th>\n",
       "      <th>0.2</th>\n",
       "      <th>0.88</th>\n",
       "      <th>N</th>\n",
       "    </tr>\n",
       "  </thead>\n",
       "  <tbody>\n",
       "    <tr>\n",
       "      <th>0</th>\n",
       "      <td>-0.33</td>\n",
       "      <td>0.94</td>\n",
       "      <td>1</td>\n",
       "      <td>0</td>\n",
       "      <td>1</td>\n",
       "      <td>0</td>\n",
       "      <td>0.8</td>\n",
       "      <td>1</td>\n",
       "      <td>0.31</td>\n",
       "      <td>O</td>\n",
       "    </tr>\n",
       "    <tr>\n",
       "      <th>1</th>\n",
       "      <td>-0.33</td>\n",
       "      <td>0.50</td>\n",
       "      <td>1</td>\n",
       "      <td>0</td>\n",
       "      <td>0</td>\n",
       "      <td>0</td>\n",
       "      <td>1.0</td>\n",
       "      <td>-1</td>\n",
       "      <td>0.50</td>\n",
       "      <td>N</td>\n",
       "    </tr>\n",
       "    <tr>\n",
       "      <th>2</th>\n",
       "      <td>-0.33</td>\n",
       "      <td>0.75</td>\n",
       "      <td>0</td>\n",
       "      <td>1</td>\n",
       "      <td>1</td>\n",
       "      <td>0</td>\n",
       "      <td>1.0</td>\n",
       "      <td>-1</td>\n",
       "      <td>0.38</td>\n",
       "      <td>N</td>\n",
       "    </tr>\n",
       "    <tr>\n",
       "      <th>3</th>\n",
       "      <td>-0.33</td>\n",
       "      <td>0.67</td>\n",
       "      <td>1</td>\n",
       "      <td>1</td>\n",
       "      <td>0</td>\n",
       "      <td>0</td>\n",
       "      <td>0.8</td>\n",
       "      <td>-1</td>\n",
       "      <td>0.50</td>\n",
       "      <td>O</td>\n",
       "    </tr>\n",
       "    <tr>\n",
       "      <th>4</th>\n",
       "      <td>-0.33</td>\n",
       "      <td>0.67</td>\n",
       "      <td>1</td>\n",
       "      <td>0</td>\n",
       "      <td>1</td>\n",
       "      <td>0</td>\n",
       "      <td>0.8</td>\n",
       "      <td>0</td>\n",
       "      <td>0.50</td>\n",
       "      <td>N</td>\n",
       "    </tr>\n",
       "  </tbody>\n",
       "</table>\n",
       "</div>"
      ],
      "text/plain": [
       "   -0.33  0.69  0  1  1.1  0.1  0.8  0.2  0.88  N\n",
       "0  -0.33  0.94  1  0    1    0  0.8    1  0.31  O\n",
       "1  -0.33  0.50  1  0    0    0  1.0   -1  0.50  N\n",
       "2  -0.33  0.75  0  1    1    0  1.0   -1  0.38  N\n",
       "3  -0.33  0.67  1  1    0    0  0.8   -1  0.50  O\n",
       "4  -0.33  0.67  1  0    1    0  0.8    0  0.50  N"
      ]
     },
     "execution_count": 2,
     "metadata": {},
     "output_type": "execute_result"
    }
   ],
   "source": [
    "# Reading the dataset\n",
    "fertility = pd.read_csv(\"./fertility/fertility_Diagnosis.txt\")\n",
    "fertility.head()"
   ]
  },
  {
   "cell_type": "code",
   "execution_count": 3,
   "metadata": {},
   "outputs": [],
   "source": [
    "# Convert the dataset into .csv\n",
    "fertility.to_csv(\"./fertility/fertility.csv\", index = None)"
   ]
  },
  {
   "cell_type": "code",
   "execution_count": 4,
   "metadata": {},
   "outputs": [
    {
     "data": {
      "text/html": [
       "<div>\n",
       "<style scoped>\n",
       "    .dataframe tbody tr th:only-of-type {\n",
       "        vertical-align: middle;\n",
       "    }\n",
       "\n",
       "    .dataframe tbody tr th {\n",
       "        vertical-align: top;\n",
       "    }\n",
       "\n",
       "    .dataframe thead th {\n",
       "        text-align: right;\n",
       "    }\n",
       "</style>\n",
       "<table border=\"1\" class=\"dataframe\">\n",
       "  <thead>\n",
       "    <tr style=\"text-align: right;\">\n",
       "      <th></th>\n",
       "      <th>-0.33</th>\n",
       "      <th>0.69</th>\n",
       "      <th>0</th>\n",
       "      <th>1</th>\n",
       "      <th>1.1</th>\n",
       "      <th>0.1</th>\n",
       "      <th>0.8</th>\n",
       "      <th>0.2</th>\n",
       "      <th>0.88</th>\n",
       "      <th>N</th>\n",
       "    </tr>\n",
       "  </thead>\n",
       "  <tbody>\n",
       "    <tr>\n",
       "      <th>0</th>\n",
       "      <td>-0.33</td>\n",
       "      <td>0.94</td>\n",
       "      <td>1</td>\n",
       "      <td>0</td>\n",
       "      <td>1</td>\n",
       "      <td>0</td>\n",
       "      <td>0.8</td>\n",
       "      <td>1</td>\n",
       "      <td>0.31</td>\n",
       "      <td>O</td>\n",
       "    </tr>\n",
       "    <tr>\n",
       "      <th>1</th>\n",
       "      <td>-0.33</td>\n",
       "      <td>0.50</td>\n",
       "      <td>1</td>\n",
       "      <td>0</td>\n",
       "      <td>0</td>\n",
       "      <td>0</td>\n",
       "      <td>1.0</td>\n",
       "      <td>-1</td>\n",
       "      <td>0.50</td>\n",
       "      <td>N</td>\n",
       "    </tr>\n",
       "    <tr>\n",
       "      <th>2</th>\n",
       "      <td>-0.33</td>\n",
       "      <td>0.75</td>\n",
       "      <td>0</td>\n",
       "      <td>1</td>\n",
       "      <td>1</td>\n",
       "      <td>0</td>\n",
       "      <td>1.0</td>\n",
       "      <td>-1</td>\n",
       "      <td>0.38</td>\n",
       "      <td>N</td>\n",
       "    </tr>\n",
       "    <tr>\n",
       "      <th>3</th>\n",
       "      <td>-0.33</td>\n",
       "      <td>0.67</td>\n",
       "      <td>1</td>\n",
       "      <td>1</td>\n",
       "      <td>0</td>\n",
       "      <td>0</td>\n",
       "      <td>0.8</td>\n",
       "      <td>-1</td>\n",
       "      <td>0.50</td>\n",
       "      <td>O</td>\n",
       "    </tr>\n",
       "    <tr>\n",
       "      <th>4</th>\n",
       "      <td>-0.33</td>\n",
       "      <td>0.67</td>\n",
       "      <td>1</td>\n",
       "      <td>0</td>\n",
       "      <td>1</td>\n",
       "      <td>0</td>\n",
       "      <td>0.8</td>\n",
       "      <td>0</td>\n",
       "      <td>0.50</td>\n",
       "      <td>N</td>\n",
       "    </tr>\n",
       "  </tbody>\n",
       "</table>\n",
       "</div>"
      ],
      "text/plain": [
       "   -0.33  0.69  0  1  1.1  0.1  0.8  0.2  0.88  N\n",
       "0  -0.33  0.94  1  0    1    0  0.8    1  0.31  O\n",
       "1  -0.33  0.50  1  0    0    0  1.0   -1  0.50  N\n",
       "2  -0.33  0.75  0  1    1    0  1.0   -1  0.38  N\n",
       "3  -0.33  0.67  1  1    0    0  0.8   -1  0.50  O\n",
       "4  -0.33  0.67  1  0    1    0  0.8    0  0.50  N"
      ]
     },
     "execution_count": 4,
     "metadata": {},
     "output_type": "execute_result"
    }
   ],
   "source": [
    "# Load the .csv format of dataset\n",
    "fertility_diag = pd.read_csv(\"./fertility/fertility.csv\")\n",
    "fertility_diag.head()"
   ]
  },
  {
   "cell_type": "code",
   "execution_count": 5,
   "metadata": {},
   "outputs": [
    {
     "data": {
      "text/html": [
       "<div>\n",
       "<style scoped>\n",
       "    .dataframe tbody tr th:only-of-type {\n",
       "        vertical-align: middle;\n",
       "    }\n",
       "\n",
       "    .dataframe tbody tr th {\n",
       "        vertical-align: top;\n",
       "    }\n",
       "\n",
       "    .dataframe thead th {\n",
       "        text-align: right;\n",
       "    }\n",
       "</style>\n",
       "<table border=\"1\" class=\"dataframe\">\n",
       "  <thead>\n",
       "    <tr style=\"text-align: right;\">\n",
       "      <th></th>\n",
       "      <th>season</th>\n",
       "      <th>age</th>\n",
       "      <th>child_disease</th>\n",
       "      <th>accident</th>\n",
       "      <th>surgical</th>\n",
       "      <th>highfever</th>\n",
       "      <th>freq_alcohol</th>\n",
       "      <th>smoking</th>\n",
       "      <th>hours</th>\n",
       "      <th>diagnosis</th>\n",
       "    </tr>\n",
       "  </thead>\n",
       "  <tbody>\n",
       "    <tr>\n",
       "      <th>0</th>\n",
       "      <td>-0.33</td>\n",
       "      <td>0.94</td>\n",
       "      <td>1</td>\n",
       "      <td>0</td>\n",
       "      <td>1</td>\n",
       "      <td>0</td>\n",
       "      <td>0.8</td>\n",
       "      <td>1</td>\n",
       "      <td>0.31</td>\n",
       "      <td>O</td>\n",
       "    </tr>\n",
       "    <tr>\n",
       "      <th>1</th>\n",
       "      <td>-0.33</td>\n",
       "      <td>0.50</td>\n",
       "      <td>1</td>\n",
       "      <td>0</td>\n",
       "      <td>0</td>\n",
       "      <td>0</td>\n",
       "      <td>1.0</td>\n",
       "      <td>-1</td>\n",
       "      <td>0.50</td>\n",
       "      <td>N</td>\n",
       "    </tr>\n",
       "    <tr>\n",
       "      <th>2</th>\n",
       "      <td>-0.33</td>\n",
       "      <td>0.75</td>\n",
       "      <td>0</td>\n",
       "      <td>1</td>\n",
       "      <td>1</td>\n",
       "      <td>0</td>\n",
       "      <td>1.0</td>\n",
       "      <td>-1</td>\n",
       "      <td>0.38</td>\n",
       "      <td>N</td>\n",
       "    </tr>\n",
       "    <tr>\n",
       "      <th>3</th>\n",
       "      <td>-0.33</td>\n",
       "      <td>0.67</td>\n",
       "      <td>1</td>\n",
       "      <td>1</td>\n",
       "      <td>0</td>\n",
       "      <td>0</td>\n",
       "      <td>0.8</td>\n",
       "      <td>-1</td>\n",
       "      <td>0.50</td>\n",
       "      <td>O</td>\n",
       "    </tr>\n",
       "    <tr>\n",
       "      <th>4</th>\n",
       "      <td>-0.33</td>\n",
       "      <td>0.67</td>\n",
       "      <td>1</td>\n",
       "      <td>0</td>\n",
       "      <td>1</td>\n",
       "      <td>0</td>\n",
       "      <td>0.8</td>\n",
       "      <td>0</td>\n",
       "      <td>0.50</td>\n",
       "      <td>N</td>\n",
       "    </tr>\n",
       "  </tbody>\n",
       "</table>\n",
       "</div>"
      ],
      "text/plain": [
       "   season   age  child_disease  accident  surgical  highfever  freq_alcohol  \\\n",
       "0   -0.33  0.94              1         0         1          0           0.8   \n",
       "1   -0.33  0.50              1         0         0          0           1.0   \n",
       "2   -0.33  0.75              0         1         1          0           1.0   \n",
       "3   -0.33  0.67              1         1         0          0           0.8   \n",
       "4   -0.33  0.67              1         0         1          0           0.8   \n",
       "\n",
       "   smoking  hours diagnosis  \n",
       "0        1   0.31         O  \n",
       "1       -1   0.50         N  \n",
       "2       -1   0.38         N  \n",
       "3       -1   0.50         O  \n",
       "4        0   0.50         N  "
      ]
     },
     "execution_count": 5,
     "metadata": {},
     "output_type": "execute_result"
    }
   ],
   "source": [
    "# Rename the headers as per the data source\n",
    "fertility_diag.columns = [\"season\", \"age\", \"child_disease\", \"accident\", \"surgical\", \"highfever\",\n",
    "                    \"freq_alcohol\", \"smoking\", \"hours\", \"diagnosis\"]\n",
    "fertility_diag.head()"
   ]
  },
  {
   "cell_type": "code",
   "execution_count": 6,
   "metadata": {},
   "outputs": [
    {
     "name": "stdout",
     "output_type": "stream",
     "text": [
      "Dimension of the dataset is:  (99, 10)\n",
      "The variables present in dataset are: \n",
      " Index(['season', 'age', 'child_disease', 'accident', 'surgical', 'highfever',\n",
      "       'freq_alcohol', 'smoking', 'hours', 'diagnosis'],\n",
      "      dtype='object')\n"
     ]
    }
   ],
   "source": [
    "# Display the characteristics of the dataset\n",
    "print(\"Dimension of the dataset is: \", fertility_diag.shape)\n",
    "print(\"The variables present in dataset are: \\n\", fertility_diag.columns)"
   ]
  },
  {
   "cell_type": "code",
   "execution_count": 7,
   "metadata": {},
   "outputs": [],
   "source": [
    "# Using random seed function to generate the same dataset\n",
    "np.random.seed(3000)"
   ]
  },
  {
   "cell_type": "code",
   "execution_count": 8,
   "metadata": {},
   "outputs": [],
   "source": [
    "# Train-Test Split for both independent and dependent features\n",
    "training, test = train_test_split(fertility_diag, test_size = 0.3)\n",
    "\n",
    "x_trg = training.drop(\"diagnosis\", axis = 1)\n",
    "y_trg = training[\"diagnosis\"]\n",
    "\n",
    "x_test = test.drop(\"diagnosis\", axis = 1)\n",
    "y_test = test[\"diagnosis\"]"
   ]
  },
  {
   "cell_type": "code",
   "execution_count": 9,
   "metadata": {},
   "outputs": [
    {
     "data": {
      "text/plain": [
       "(69, 9)"
      ]
     },
     "execution_count": 9,
     "metadata": {},
     "output_type": "execute_result"
    }
   ],
   "source": [
    "x_trg.shape"
   ]
  },
  {
   "cell_type": "code",
   "execution_count": 10,
   "metadata": {},
   "outputs": [
    {
     "data": {
      "text/plain": [
       "(69,)"
      ]
     },
     "execution_count": 10,
     "metadata": {},
     "output_type": "execute_result"
    }
   ],
   "source": [
    "y_trg.shape"
   ]
  },
  {
   "cell_type": "code",
   "execution_count": 11,
   "metadata": {},
   "outputs": [
    {
     "data": {
      "text/plain": [
       "(30, 9)"
      ]
     },
     "execution_count": 11,
     "metadata": {},
     "output_type": "execute_result"
    }
   ],
   "source": [
    "x_test.shape"
   ]
  },
  {
   "cell_type": "code",
   "execution_count": 12,
   "metadata": {},
   "outputs": [
    {
     "data": {
      "text/plain": [
       "(30,)"
      ]
     },
     "execution_count": 12,
     "metadata": {},
     "output_type": "execute_result"
    }
   ],
   "source": [
    "y_test.shape"
   ]
  },
  {
   "cell_type": "markdown",
   "metadata": {},
   "source": [
    "### Model Building - Decision Tree"
   ]
  },
  {
   "cell_type": "code",
   "execution_count": 13,
   "metadata": {},
   "outputs": [
    {
     "name": "stdout",
     "output_type": "stream",
     "text": [
      "Accuracy on training set is: 0.986\n",
      "Accuracy on test set is: 0.800\n"
     ]
    }
   ],
   "source": [
    "# Model building\n",
    "tree_fertility = DecisionTreeClassifier(random_state = 0)\n",
    "\n",
    "# Fit the model\n",
    "tree_fertility.fit(x_trg, y_trg)\n",
    "print(\"Accuracy on training set is: %0.3f\" % tree_fertility.score(x_trg, y_trg))\n",
    "print(\"Accuracy on test set is: %0.3f\" % tree_fertility.score(x_test, y_test))"
   ]
  },
  {
   "cell_type": "code",
   "execution_count": 14,
   "metadata": {},
   "outputs": [
    {
     "name": "stdout",
     "output_type": "stream",
     "text": [
      "The confusion matrix of Decision Tree model is: \n",
      " [[24  5]\n",
      " [ 1  0]]\n"
     ]
    }
   ],
   "source": [
    "# Confusion Matrix - Decision Tree\n",
    "tree_pred = tree_fertility.predict(x_test)\n",
    "tree_results = confusion_matrix(y_test, tree_pred)\n",
    "print(\"The confusion matrix of Decision Tree model is: \\n\", tree_results)"
   ]
  },
  {
   "cell_type": "markdown",
   "metadata": {},
   "source": [
    "#### Creating a new Decision Tree with specified depth"
   ]
  },
  {
   "cell_type": "code",
   "execution_count": 15,
   "metadata": {},
   "outputs": [
    {
     "name": "stdout",
     "output_type": "stream",
     "text": [
      "Accuracy of new model on Training set is: 001\n",
      "Accuracy of new model on Test set is: 0.800000\n"
     ]
    }
   ],
   "source": [
    "# Model Building - new Decision Tree\n",
    "tree_fertility_1 = DecisionTreeClassifier(max_depth = 3, random_state = 0)\n",
    "\n",
    "# Fit the new model\n",
    "tree_fertility_1.fit(x_trg, y_trg)\n",
    "print(\"Accuracy of new model on Training set is: %03.f\" % tree_fertility_1.score(x_trg, y_trg))\n",
    "print(\"Accuracy of new model on Test set is: %03f\" % tree_fertility_1.score(x_test, y_test))"
   ]
  },
  {
   "cell_type": "code",
   "execution_count": 16,
   "metadata": {
    "scrolled": true
   },
   "outputs": [],
   "source": [
    "# Display the Decision Tree model\n",
    "export_graphviz(tree_fertility_1, out_file = \"./fertility/fertility_1.dot\", class_names = [\"N\", \"O\"],\n",
    "               feature_names = x_trg.columns, impurity = False, filled = True)\n",
    "\n",
    "with open(\"./fertility/fertility_1.dot\") as f:\n",
    "    dot_graph = f.read()\n",
    "    graphviz.Source(dot_graph)"
   ]
  },
  {
   "cell_type": "code",
   "execution_count": 17,
   "metadata": {},
   "outputs": [
    {
     "name": "stdout",
     "output_type": "stream",
     "text": [
      "The importance of the features of tree model is: \n",
      " [0.27417006 0.31618512 0.         0.29869832 0.         0.03944765\n",
      " 0.         0.         0.07149886]\n"
     ]
    }
   ],
   "source": [
    "# Determine the importance of each predictor variable\n",
    "print(\"The importance of the features of tree model is: \\n\", tree_fertility_1.feature_importances_)"
   ]
  },
  {
   "cell_type": "code",
   "execution_count": 18,
   "metadata": {},
   "outputs": [
    {
     "data": {
      "image/png": "[encoded data removed]",
      "text/plain": [
       "<Figure size 1440x720 with 1 Axes>"
      ]
     },
     "metadata": {
      "needs_background": "light"
     },
     "output_type": "display_data"
    }
   ],
   "source": [
    "# Display the importance of each variable in decision tree\n",
    "plt.figure(1, figsize = (20,10))\n",
    "plt.yticks(range(0,9), x_trg.columns)\n",
    "plt.barh(range(0,9), tree_fertility_1.feature_importances_, align = \"center\")\n",
    "plt.xlabel(\"Coefficient\")\n",
    "plt.ylabel(\"Value\")\n",
    "plt.show()"
   ]
  },
  {
   "cell_type": "code",
   "execution_count": 19,
   "metadata": {},
   "outputs": [
    {
     "name": "stdout",
     "output_type": "stream",
     "text": [
      "The accuracy of new Decision Tree model is: 0.800\n",
      "The confusion matrix of new Decision Tree model is: \n",
      " [[24  5]\n",
      " [ 1  0]]\n"
     ]
    }
   ],
   "source": [
    "# Creating confusion matrix and determine accuracy of the new decison tree model\n",
    "tree_pred_2 = tree_fertility_1.predict(x_test)\n",
    "tree_acc_score_2 = accuracy_score(y_test, tree_pred_2)\n",
    "tree_results_2 = confusion_matrix(y_test, tree_pred_2)\n",
    "print(\"The accuracy of new Decision Tree model is: %0.3f\" % tree_acc_score_2)\n",
    "print(\"The confusion matrix of new Decision Tree model is: \\n\", tree_results_2)"
   ]
  },
  {
   "cell_type": "markdown",
   "metadata": {},
   "source": [
    "### Creating a new Decision Tree model with important predictor variables"
   ]
  },
  {
   "cell_type": "code",
   "execution_count": 20,
   "metadata": {},
   "outputs": [],
   "source": [
    "# Model Building - Decision Tree new\n",
    "x_trg = x_trg.drop(columns = [\"smoking\", \"age\", \"surgical\", \"accident\", \"child_disease\",\n",
    "                            \"highfever\"], axis = 1)\n",
    "x_test = x_test.drop(columns = [\"smoking\", \"age\", \"surgical\", \"accident\", \"child_disease\",\n",
    "                            \"highfever\"], axis = 1)"
   ]
  },
  {
   "cell_type": "code",
   "execution_count": 21,
   "metadata": {},
   "outputs": [
    {
     "name": "stdout",
     "output_type": "stream",
     "text": [
      "The accuracy of 3rd DT model is: 0.933\n",
      "The consufion matrix of 3rd DT model is: \n",
      " [[28  1]\n",
      " [ 1  0]]\n"
     ]
    }
   ],
   "source": [
    "# New DT Model\n",
    "tree_fertility_2 = DecisionTreeClassifier(max_depth = 3, random_state = 0)\n",
    "\n",
    "# Model Fit\n",
    "tree_fertility_2.fit(x_trg, y_trg)\n",
    "\n",
    "# Prediction\n",
    "tree_fertility_2_pred = tree_fertility_2.predict(x_test)\n",
    "\n",
    "# Accuracy score\n",
    "tree_fertility_2_acc_score = accuracy_score(y_test, tree_fertility_2_pred)\n",
    "\n",
    "# Confusion Matrix\n",
    "tree_fertility_2_results = confusion_matrix(y_test, tree_fertility_2_pred)\n",
    "\n",
    "print(\"The accuracy of 3rd DT model is: %0.3f\" % tree_fertility_2_acc_score)\n",
    "print(\"The consufion matrix of 3rd DT model is: \\n\", tree_fertility_2_results)"
   ]
  },
  {
   "cell_type": "markdown",
   "metadata": {},
   "source": [
    "### Compare DT models with k-NN model"
   ]
  },
  {
   "cell_type": "code",
   "execution_count": 22,
   "metadata": {},
   "outputs": [
    {
     "name": "stdout",
     "output_type": "stream",
     "text": [
      "The accuracy of the kNN model is: 0.833\n",
      "The confusion matrix of kNN model is: \n",
      " [[25  4]\n",
      " [ 1  0]]\n",
      "The accuracy of the kNN model is: 0.900\n",
      "The confusion matrix of kNN model is: \n",
      " [[27  2]\n",
      " [ 1  0]]\n",
      "The accuracy of the kNN model is: 0.900\n",
      "The confusion matrix of kNN model is: \n",
      " [[27  2]\n",
      " [ 1  0]]\n",
      "The accuracy of the kNN model is: 0.900\n",
      "The confusion matrix of kNN model is: \n",
      " [[27  2]\n",
      " [ 1  0]]\n",
      "The accuracy of the kNN model is: 0.867\n",
      "The confusion matrix of kNN model is: \n",
      " [[26  3]\n",
      " [ 1  0]]\n",
      "The accuracy of the kNN model is: 0.900\n",
      "The confusion matrix of kNN model is: \n",
      " [[27  2]\n",
      " [ 1  0]]\n",
      "The accuracy of the kNN model is: 0.900\n",
      "The confusion matrix of kNN model is: \n",
      " [[27  2]\n",
      " [ 1  0]]\n",
      "The accuracy of the kNN model is: 0.967\n",
      "The confusion matrix of kNN model is: \n",
      " [[29  0]\n",
      " [ 1  0]]\n",
      "The accuracy of the kNN model is: 0.967\n",
      "The confusion matrix of kNN model is: \n",
      " [[29  0]\n",
      " [ 1  0]]\n",
      "The accuracy of the kNN model is: 0.967\n",
      "The confusion matrix of kNN model is: \n",
      " [[29  0]\n",
      " [ 1  0]]\n",
      "The accuracy of the kNN model is: 0.967\n",
      "The confusion matrix of kNN model is: \n",
      " [[29  0]\n",
      " [ 1  0]]\n",
      "The accuracy of the kNN model is: 0.967\n",
      "The confusion matrix of kNN model is: \n",
      " [[29  0]\n",
      " [ 1  0]]\n",
      "The accuracy of the kNN model is: 0.967\n",
      "The confusion matrix of kNN model is: \n",
      " [[29  0]\n",
      " [ 1  0]]\n",
      "The accuracy of the kNN model is: 0.967\n",
      "The confusion matrix of kNN model is: \n",
      " [[29  0]\n",
      " [ 1  0]]\n",
      "The accuracy of the kNN model is: 0.967\n",
      "The confusion matrix of kNN model is: \n",
      " [[29  0]\n",
      " [ 1  0]]\n",
      "The accuracy of the kNN model is: 0.967\n",
      "The confusion matrix of kNN model is: \n",
      " [[29  0]\n",
      " [ 1  0]]\n",
      "The accuracy of the kNN model is: 0.967\n",
      "The confusion matrix of kNN model is: \n",
      " [[29  0]\n",
      " [ 1  0]]\n",
      "The accuracy of the kNN model is: 0.967\n",
      "The confusion matrix of kNN model is: \n",
      " [[29  0]\n",
      " [ 1  0]]\n",
      "The accuracy of the kNN model is: 0.967\n",
      "The confusion matrix of kNN model is: \n",
      " [[29  0]\n",
      " [ 1  0]]\n",
      "The accuracy of the kNN model is: 0.967\n",
      "The confusion matrix of kNN model is: \n",
      " [[29  0]\n",
      " [ 1  0]]\n",
      "The accuracy of the kNN model is: 0.967\n",
      "The confusion matrix of kNN model is: \n",
      " [[29  0]\n",
      " [ 1  0]]\n",
      "\n",
      "\n",
      "The maximum accuracy of kNN model is: 0.967\n"
     ]
    }
   ],
   "source": [
    "# Model Building - k-NN\n",
    "knn_accuracylist = []\n",
    "for K in range(21):\n",
    "    K = K + 1\n",
    "    # Model building\n",
    "    knn_fertility = KNeighborsClassifier(n_neighbors = K)\n",
    "    \n",
    "    # Model fit\n",
    "    knn_fertility.fit(x_trg, y_trg)\n",
    "    \n",
    "    # Prediction\n",
    "    knn_pred = knn_fertility.predict(x_test)\n",
    "    \n",
    "    # Consfusion matrix\n",
    "    knn_results = confusion_matrix(y_test, knn_pred)\n",
    "    \n",
    "    # Accuracy of model\n",
    "    knn_score = accuracy_score(y_test, knn_pred)\n",
    "    \n",
    "    print(\"The accuracy of the kNN model is: %0.3f\" %knn_score)\n",
    "    print(\"The confusion matrix of kNN model is: \\n\", knn_results)\n",
    "    \n",
    "    knn_accuracylist.append(knn_score)\n",
    "\n",
    "print(\"\\n\")\n",
    "print(\"The maximum accuracy of kNN model is: %0.3f\" % max(knn_accuracylist))"
   ]
  },
  {
   "cell_type": "markdown",
   "metadata": {},
   "source": [
    "### Compare DT model with Naive Bayes model"
   ]
  },
  {
   "cell_type": "code",
   "execution_count": 23,
   "metadata": {},
   "outputs": [
    {
     "name": "stdout",
     "output_type": "stream",
     "text": [
      "The accuracy of Naiva Bayes model is: 0.933\n",
      "The confusion matrix of Naive Bayes model is: \n",
      " [[28  1]\n",
      " [ 1  0]]\n"
     ]
    }
   ],
   "source": [
    "# Model building - Naive Bayes\n",
    "naive_fertility = GaussianNB()\n",
    "\n",
    "# Model fit\n",
    "naive_fertility.fit(x_trg, y_trg)\n",
    "\n",
    "# Prediction\n",
    "naive_pred = naive_fertility.predict(x_test)\n",
    "\n",
    "# Confusion matrix\n",
    "naive_results = confusion_matrix(y_test, naive_pred)\n",
    "\n",
    "# Accuracy score\n",
    "naive_acc_score = accuracy_score(y_test, naive_pred)\n",
    "\n",
    "print(\"The accuracy of Naiva Bayes model is: %0.3f\" % naive_acc_score)\n",
    "print(\"The confusion matrix of Naive Bayes model is: \\n\", naive_results)"
   ]
  },
  {
   "cell_type": "markdown",
   "metadata": {},
   "source": [
    "### Compare DT model with Logistic Regression model"
   ]
  },
  {
   "cell_type": "code",
   "execution_count": 24,
   "metadata": {},
   "outputs": [
    {
     "name": "stdout",
     "output_type": "stream",
     "text": [
      "The accuracy of Logistic Regression model is: 0.967\n",
      "The confusion matrix of Logistic Regression model is: \n",
      " [[29  0]\n",
      " [ 1  0]]\n"
     ]
    }
   ],
   "source": [
    "# Model building - Logistic Regression\n",
    "log_fertility = LogisticRegression()\n",
    "\n",
    "# Model fit\n",
    "log_fertility.fit(x_trg, y_trg)\n",
    "\n",
    "# Prediction\n",
    "log_pred = log_fertility.predict(x_test)\n",
    "\n",
    "# Accuracy of the model\n",
    "log_acc_score = accuracy_score(y_test, log_pred)\n",
    "\n",
    "# Confuson Matrix of model\n",
    "log_results = confusion_matrix(y_test, log_pred)\n",
    "\n",
    "print(\"The accuracy of Logistic Regression model is: %0.3f\" % log_acc_score)\n",
    "print(\"The confusion matrix of Logistic Regression model is: \\n\", log_results)"
   ]
  },
  {
   "cell_type": "markdown",
   "metadata": {},
   "source": [
    "It can be seen that when basic version of DT model created with random_state = 0 and maxi_depth kept as default. The peformance of model on training set is 0.986 and on test set is 0.800. The huge difference indicates that model is underfitting.\n",
    "\n",
    "Upon trying to improve the accuracy by chaning parameters max_depth to 3, we found that the preformance of model haven't improved on test set, it remained 0.800.\n",
    "\n",
    "Upon considering the important predictor variables a new DT model was built and accuracy is improved to 0.933.\n",
    "\n",
    "We have also compared the DT models with other models and found out that the maximum accuracy of kNN model is 0.967 and that of Naive Bayes is 0.933 and at last Logistic Regression model is 0.967.\n",
    "\n",
    "Upon checking the performances of aforementioned models, the best models can be either kNN or Logistic Regression."
   ]
  },
  {
   "cell_type": "code",
   "execution_count": null,
   "metadata": {},
   "outputs": [],
   "source": []
  }
 ],
 "metadata": {
  "kernelspec": {
   "display_name": "Python 3",
   "language": "python",
   "name": "python3"
  },
  "language_info": {
   "codemirror_mode": {
    "name": "ipython",
    "version": 3
   },
   "file_extension": ".py",
   "mimetype": "text/x-python",
   "name": "python",
   "nbconvert_exporter": "python",
   "pygments_lexer": "ipython3",
   "version": "3.8.6"
  }
 },
 "nbformat": 4,
 "nbformat_minor": 4
}
