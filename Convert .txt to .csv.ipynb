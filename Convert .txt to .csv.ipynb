{
 "cells": [
  {
   "cell_type": "markdown",
   "metadata": {},
   "source": [
    "### Convert .txt data to .csv data\n",
    "\n",
    "Data Source: [Occupancy Detection](\"https://archive.ics.uci.edu/ml/datasets/Occupancy+Detection+\")\n",
    "\n",
    "Data folder contains 3 datasets namely - datatest.txt, datatest2.txt and datatraining.txt. All of them are converted into .csv format and initial preprocessing done by removing the date column as we want to use this to understand the Naive Bayes algorithm.\n",
    "\n",
    "**Note:** These datasets can be used for time series problem as well :)"
   ]
  },
  {
   "cell_type": "code",
   "execution_count": 1,
   "metadata": {},
   "outputs": [],
   "source": [
    "# Import the necessary package\n",
    "import pandas as pd"
   ]
  },
  {
   "cell_type": "code",
   "execution_count": 2,
   "metadata": {},
   "outputs": [],
   "source": [
    "# training set\n",
    "df = pd.read_csv(\"./occupancy_data/datatraining.txt\")\n",
    "df.drop([\"date\"], axis = 1, inplace = True)\n",
    "df.to_csv(\"occu_trg.csv\", index = None)\n",
    "\n",
    "# test set\n",
    "df_test = pd.read_csv(\"./occupancy_data/datatest.txt\")\n",
    "df_test.drop([\"date\"], axis = 1, inplace = True)\n",
    "df_test.to_csv(\"occu_test.csv\", index = None)\n",
    "\n",
    "# test set2\n",
    "df_test2 = pd.read_csv(\"./occupancy_data/datatest2.txt\")\n",
    "df_test2.drop([\"date\"], axis = 1, inplace = True)\n",
    "df_test2.to_csv(\"occu_test2.csv\", index = None)"
   ]
  },
  {
   "cell_type": "code",
   "execution_count": null,
   "metadata": {},
   "outputs": [],
   "source": []
  }
 ],
 "metadata": {
  "kernelspec": {
   "display_name": "Python 3",
   "language": "python",
   "name": "python3"
  },
  "language_info": {
   "codemirror_mode": {
    "name": "ipython",
    "version": 3
   },
   "file_extension": ".py",
   "mimetype": "text/x-python",
   "name": "python",
   "nbconvert_exporter": "python",
   "pygments_lexer": "ipython3",
   "version": "3.8.6"
  }
 },
 "nbformat": 4,
 "nbformat_minor": 4
}
