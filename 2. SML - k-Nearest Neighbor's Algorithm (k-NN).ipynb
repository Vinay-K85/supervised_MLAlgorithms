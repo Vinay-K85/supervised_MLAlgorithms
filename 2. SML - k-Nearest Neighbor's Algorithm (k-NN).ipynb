{
 "cells": [
  {
   "cell_type": "markdown",
   "metadata": {},
   "source": [
    "# k-Nearest Neighbor's Algorithm (k-NN)\n",
    "\n",
    "k-NN is a non-parametric algorithm used for both `regression` and `classification` problems both. The k-NN works well if the same scale is used for all the data. The most important parameter of hte k-NN algorithm is `k` which specifies the number of neighbor observations that contribute to the output predictions. The optimal value of `k` can be obtained mainly through `cross validation`.\n",
    "\n",
    "**Cross validation** involves randomly dividing the training set into groups or folds of approximately equal size. k-NN makes predictions using the training dataset directly.\n",
    "\n",
    "The most common distance method used is **Euclidean distance**"
   ]
  },
  {
   "cell_type": "markdown",
   "metadata": {},
   "source": [
    "## k-NN (Classification Problem)"
   ]
  },
  {
   "cell_type": "code",
   "execution_count": 1,
   "metadata": {},
   "outputs": [],
   "source": [
    "# Importing the necessary packages and dataset\n",
    "import pandas as pd\n",
    "from sklearn.model_selection import train_test_split\n",
    "from sklearn.neighbors import KNeighborsClassifier\n",
    "from sklearn.naive_bayes import GaussianNB\n",
    "from sklearn.linear_model import LogisticRegression\n",
    "from sklearn.metrics import accuracy_score, confusion_matrix\n",
    "from sklearn.preprocessing import StandardScaler, LabelEncoder\n",
    "\n",
    "from sklearn.datasets import load_breast_cancer\n",
    "\n",
    "import warnings\n",
    "warnings.filterwarnings(\"ignore\")"
   ]
  },
  {
   "cell_type": "code",
   "execution_count": 2,
   "metadata": {},
   "outputs": [],
   "source": [
    "# Loading the dataset\n",
    "cancer = load_breast_cancer()"
   ]
  },
  {
   "cell_type": "code",
   "execution_count": 3,
   "metadata": {},
   "outputs": [
    {
     "name": "stdout",
     "output_type": "stream",
     "text": [
      "Dimension of independent variables are:  (569, 30)\n",
      "Dimension of dependent variable:  (569,)\n",
      "The variables in the dataset are: \n",
      " ['mean radius' 'mean texture' 'mean perimeter' 'mean area'\n",
      " 'mean smoothness' 'mean compactness' 'mean concavity'\n",
      " 'mean concave points' 'mean symmetry' 'mean fractal dimension'\n",
      " 'radius error' 'texture error' 'perimeter error' 'area error'\n",
      " 'smoothness error' 'compactness error' 'concavity error'\n",
      " 'concave points error' 'symmetry error' 'fractal dimension error'\n",
      " 'worst radius' 'worst texture' 'worst perimeter' 'worst area'\n",
      " 'worst smoothness' 'worst compactness' 'worst concavity'\n",
      " 'worst concave points' 'worst symmetry' 'worst fractal dimension']\n"
     ]
    }
   ],
   "source": [
    "# Display the characteristics of dataset\n",
    "print(\"Dimension of independent variables are: \", cancer.data.shape)\n",
    "print(\"Dimension of dependent variable: \", cancer.target.shape)\n",
    "print(\"The variables in the dataset are: \\n\", cancer.feature_names)"
   ]
  },
  {
   "cell_type": "code",
   "execution_count": 4,
   "metadata": {},
   "outputs": [],
   "source": [
    "# Train-Test Split of independent and dependent variables\n",
    "x_trg, x_test, y_trg, y_test = train_test_split(cancer.data, cancer.target, random_state = 0)"
   ]
  },
  {
   "cell_type": "code",
   "execution_count": 5,
   "metadata": {},
   "outputs": [
    {
     "data": {
      "text/plain": [
       "(426, 30)"
      ]
     },
     "execution_count": 5,
     "metadata": {},
     "output_type": "execute_result"
    }
   ],
   "source": [
    "x_trg.shape"
   ]
  },
  {
   "cell_type": "code",
   "execution_count": 6,
   "metadata": {},
   "outputs": [
    {
     "data": {
      "text/plain": [
       "(426,)"
      ]
     },
     "execution_count": 6,
     "metadata": {},
     "output_type": "execute_result"
    }
   ],
   "source": [
    "y_trg.shape"
   ]
  },
  {
   "cell_type": "code",
   "execution_count": 7,
   "metadata": {},
   "outputs": [
    {
     "data": {
      "text/plain": [
       "(143, 30)"
      ]
     },
     "execution_count": 7,
     "metadata": {},
     "output_type": "execute_result"
    }
   ],
   "source": [
    "x_test.shape"
   ]
  },
  {
   "cell_type": "code",
   "execution_count": 8,
   "metadata": {},
   "outputs": [
    {
     "data": {
      "text/plain": [
       "(143,)"
      ]
     },
     "execution_count": 8,
     "metadata": {},
     "output_type": "execute_result"
    }
   ],
   "source": [
    "y_test.shape"
   ]
  },
  {
   "cell_type": "markdown",
   "metadata": {},
   "source": [
    "#### Feature Scaling"
   ]
  },
  {
   "cell_type": "code",
   "execution_count": 9,
   "metadata": {},
   "outputs": [],
   "source": [
    "sc = StandardScaler()\n",
    "\n",
    "x_trg = sc.fit_transform(x_trg)\n",
    "x_test = sc.fit_transform(x_test)"
   ]
  },
  {
   "cell_type": "code",
   "execution_count": 10,
   "metadata": {},
   "outputs": [],
   "source": [
    "# Encoding the categorical data values\n",
    "labelencoder_y = LabelEncoder()\n",
    "\n",
    "y_trg = labelencoder_y.fit_transform(y_trg)\n",
    "y_test = labelencoder_y.fit_transform(y_test)"
   ]
  },
  {
   "cell_type": "markdown",
   "metadata": {},
   "source": [
    "### Model Building - k-NN"
   ]
  },
  {
   "cell_type": "code",
   "execution_count": 11,
   "metadata": {},
   "outputs": [
    {
     "name": "stdout",
     "output_type": "stream",
     "text": [
      "The accuracy of KNN model for k =  1  is: 0.930\n",
      "The confusion matrix of KNN model is: \n",
      " [[48  5]\n",
      " [ 5 85]]\n",
      "The accuracy of KNN model for k =  2  is: 0.909\n",
      "The confusion matrix of KNN model is: \n",
      " [[49  4]\n",
      " [ 9 81]]\n",
      "The accuracy of KNN model for k =  3  is: 0.951\n",
      "The confusion matrix of KNN model is: \n",
      " [[49  4]\n",
      " [ 3 87]]\n",
      "The accuracy of KNN model for k =  4  is: 0.944\n",
      "The confusion matrix of KNN model is: \n",
      " [[49  4]\n",
      " [ 4 86]]\n",
      "The accuracy of KNN model for k =  5  is: 0.951\n",
      "The confusion matrix of KNN model is: \n",
      " [[47  6]\n",
      " [ 1 89]]\n",
      "The accuracy of KNN model for k =  6  is: 0.944\n",
      "The confusion matrix of KNN model is: \n",
      " [[47  6]\n",
      " [ 2 88]]\n",
      "The accuracy of KNN model for k =  7  is: 0.944\n",
      "The confusion matrix of KNN model is: \n",
      " [[47  6]\n",
      " [ 2 88]]\n",
      "The accuracy of KNN model for k =  8  is: 0.944\n",
      "The confusion matrix of KNN model is: \n",
      " [[48  5]\n",
      " [ 3 87]]\n",
      "The accuracy of KNN model for k =  9  is: 0.951\n",
      "The confusion matrix of KNN model is: \n",
      " [[48  5]\n",
      " [ 2 88]]\n",
      "The accuracy of KNN model for k =  10  is: 0.951\n",
      "The confusion matrix of KNN model is: \n",
      " [[48  5]\n",
      " [ 2 88]]\n",
      "The accuracy of KNN model for k =  11  is: 0.951\n",
      "The confusion matrix of KNN model is: \n",
      " [[48  5]\n",
      " [ 2 88]]\n",
      "The accuracy of KNN model for k =  12  is: 0.958\n",
      "The confusion matrix of KNN model is: \n",
      " [[49  4]\n",
      " [ 2 88]]\n",
      "The accuracy of KNN model for k =  13  is: 0.951\n",
      "The confusion matrix of KNN model is: \n",
      " [[48  5]\n",
      " [ 2 88]]\n",
      "The accuracy of KNN model for k =  14  is: 0.951\n",
      "The confusion matrix of KNN model is: \n",
      " [[48  5]\n",
      " [ 2 88]]\n",
      "The accuracy of KNN model for k =  15  is: 0.951\n",
      "The confusion matrix of KNN model is: \n",
      " [[48  5]\n",
      " [ 2 88]]\n",
      "The accuracy of KNN model for k =  16  is: 0.944\n",
      "The confusion matrix of KNN model is: \n",
      " [[48  5]\n",
      " [ 3 87]]\n",
      "The accuracy of KNN model for k =  17  is: 0.951\n",
      "The confusion matrix of KNN model is: \n",
      " [[47  6]\n",
      " [ 1 89]]\n",
      "The accuracy of KNN model for k =  18  is: 0.965\n",
      "The confusion matrix of KNN model is: \n",
      " [[49  4]\n",
      " [ 1 89]]\n",
      "The accuracy of KNN model for k =  19  is: 0.951\n",
      "The confusion matrix of KNN model is: \n",
      " [[47  6]\n",
      " [ 1 89]]\n",
      "The accuracy of KNN model for k =  20  is: 0.958\n",
      "The confusion matrix of KNN model is: \n",
      " [[48  5]\n",
      " [ 1 89]]\n",
      "The accuracy of KNN model for k =  21  is: 0.951\n",
      "The confusion matrix of KNN model is: \n",
      " [[47  6]\n",
      " [ 1 89]]\n"
     ]
    }
   ],
   "source": [
    "# Storing accuracy score in an array for different value of k\n",
    "knn_accuracylist = []\n",
    "\n",
    "for K in range(21):\n",
    "    K = K + 1\n",
    "    # Creating model\n",
    "    knn_cancer = KNeighborsClassifier(n_neighbors = K)\n",
    "    \n",
    "    # Fit the model\n",
    "    knn_cancer.fit(x_trg, y_trg)\n",
    "    \n",
    "    # Prediction on test set\n",
    "    knn_pred = knn_cancer.predict(x_test)\n",
    "    \n",
    "    # Confusion matrix for the model\n",
    "    knn_results = confusion_matrix(y_test, knn_pred)\n",
    "    \n",
    "    # Accuracy of the model\n",
    "    knn_acc_score = accuracy_score(y_test, knn_pred)\n",
    "    \n",
    "    print(\"The accuracy of KNN model for k = \",K,\" is: %0.3f\"% knn_acc_score)\n",
    "    print(\"The confusion matrix of KNN model is: \\n\", knn_results)\n",
    "    \n",
    "    # Adding the accuracy score in the list\n",
    "    knn_accuracylist.append(knn_acc_score)"
   ]
  },
  {
   "cell_type": "code",
   "execution_count": 12,
   "metadata": {},
   "outputs": [
    {
     "name": "stdout",
     "output_type": "stream",
     "text": [
      "The maximum accuracy using KNN model is: 0.965\n"
     ]
    }
   ],
   "source": [
    "# Determine the best accuracy\n",
    "print(\"The maximum accuracy using KNN model is: %0.3f\" %max(knn_accuracylist))"
   ]
  },
  {
   "cell_type": "code",
   "execution_count": 13,
   "metadata": {},
   "outputs": [
    {
     "data": {
      "text/plain": [
       "<AxesSubplot:>"
      ]
     },
     "execution_count": 13,
     "metadata": {},
     "output_type": "execute_result"
    },
    {
     "data": {
      "image/png": "[encoded data removed]",
      "text/plain": [
       "<Figure size 432x288 with 1 Axes>"
      ]
     },
     "metadata": {
      "needs_background": "light"
     },
     "output_type": "display_data"
    }
   ],
   "source": [
    "# Display the accuracy of kNN model for different values of k\n",
    "curve = pd.DataFrame(knn_accuracylist)\n",
    "curve.plot()"
   ]
  },
  {
   "cell_type": "markdown",
   "metadata": {},
   "source": [
    "#### Compare the kNN model with Naive Bayes model"
   ]
  },
  {
   "cell_type": "code",
   "execution_count": 14,
   "metadata": {},
   "outputs": [
    {
     "name": "stdout",
     "output_type": "stream",
     "text": [
      "The accuracy of the Naive Bayes model is: 0.937\n",
      "The confusion matrix of the Naive Bayes model is: \n",
      " [[48  5]\n",
      " [ 4 86]]\n"
     ]
    }
   ],
   "source": [
    "# Naive-Bayes Model building\n",
    "naive_cancer = GaussianNB()\n",
    "\n",
    "naive_cancer.fit(x_trg, y_trg)\n",
    "naive_pred = naive_cancer.predict(x_test)\n",
    "naive_results = confusion_matrix(y_test, naive_pred)\n",
    "naive_acc_score = accuracy_score(y_test, naive_pred)\n",
    "\n",
    "print(\"The accuracy of the Naive Bayes model is: %0.3f\"% naive_acc_score)\n",
    "print(\"The confusion matrix of the Naive Bayes model is: \\n\", naive_results)"
   ]
  },
  {
   "cell_type": "markdown",
   "metadata": {},
   "source": [
    "#### Compare the kNN model with Logistic Regression model"
   ]
  },
  {
   "cell_type": "code",
   "execution_count": 15,
   "metadata": {},
   "outputs": [
    {
     "name": "stdout",
     "output_type": "stream",
     "text": [
      "The accuracy of the Logistic Regression model is: 0.958\n",
      "The confusion matrix of the Logistic Regression model is: \n",
      " [[51  2]\n",
      " [ 4 86]]\n"
     ]
    }
   ],
   "source": [
    "# Logistic Regression Model building\n",
    "log_cancer = LogisticRegression()\n",
    "\n",
    "log_cancer.fit(x_trg, y_trg)\n",
    "log_pred = log_cancer.predict(x_test)\n",
    "log_results = confusion_matrix(y_test, log_pred)\n",
    "log_acc_score = accuracy_score(y_test, log_pred)\n",
    "\n",
    "print(\"The accuracy of the Logistic Regression model is: %0.3f\"% log_acc_score)\n",
    "print(\"The confusion matrix of the Logistic Regression model is: \\n\", log_results)"
   ]
  },
  {
   "cell_type": "markdown",
   "metadata": {},
   "source": [
    "The model performances are\n",
    "- kNN = 96.5%\n",
    "- Naive Bayes = 93.7%\n",
    "- Logistic Regression = 95.8%\n",
    "\n",
    "From above we can say that kNN is the best model."
   ]
  },
  {
   "cell_type": "markdown",
   "metadata": {},
   "source": [
    "---------------------"
   ]
  },
  {
   "cell_type": "markdown",
   "metadata": {},
   "source": [
    "# k-NN (Regression Problem)\n",
    "\n",
    "Data Source: [Computer Hardware](\"https://archive.ics.uci.edu/ml/datasets/Computer+Hardware\")\n",
    "\n",
    "To understand the regression problem better we have deleted vendor name and model name as they can't be considered as independent variable. The target variable is set as `ERP` and remaining 7 variables as independent variables."
   ]
  },
  {
   "cell_type": "code",
   "execution_count": 16,
   "metadata": {},
   "outputs": [],
   "source": [
    "# Importing the necessary packages\n",
    "import pandas as pd\n",
    "import numpy as np\n",
    "from sklearn import linear_model\n",
    "from sklearn.model_selection import train_test_split\n",
    "from sklearn.neighbors import KNeighborsRegressor\n",
    "from math import sqrt\n",
    "from sklearn.metrics import mean_squared_error\n",
    "from sklearn.preprocessing import StandardScaler, LabelEncoder\n",
    "\n",
    "import warnings\n",
    "warnings.filterwarnings(\"ignore\")"
   ]
  },
  {
   "cell_type": "code",
   "execution_count": 17,
   "metadata": {},
   "outputs": [
    {
     "data": {
      "text/html": [
       "<div>\n",
       "<style scoped>\n",
       "    .dataframe tbody tr th:only-of-type {\n",
       "        vertical-align: middle;\n",
       "    }\n",
       "\n",
       "    .dataframe tbody tr th {\n",
       "        vertical-align: top;\n",
       "    }\n",
       "\n",
       "    .dataframe thead th {\n",
       "        text-align: right;\n",
       "    }\n",
       "</style>\n",
       "<table border=\"1\" class=\"dataframe\">\n",
       "  <thead>\n",
       "    <tr style=\"text-align: right;\">\n",
       "      <th></th>\n",
       "      <th>adviser</th>\n",
       "      <th>32/60</th>\n",
       "      <th>125</th>\n",
       "      <th>256</th>\n",
       "      <th>6000</th>\n",
       "      <th>256.1</th>\n",
       "      <th>16</th>\n",
       "      <th>128</th>\n",
       "      <th>198</th>\n",
       "      <th>199</th>\n",
       "    </tr>\n",
       "  </thead>\n",
       "  <tbody>\n",
       "    <tr>\n",
       "      <th>0</th>\n",
       "      <td>amdahl</td>\n",
       "      <td>470v/7</td>\n",
       "      <td>29</td>\n",
       "      <td>8000</td>\n",
       "      <td>32000</td>\n",
       "      <td>32</td>\n",
       "      <td>8</td>\n",
       "      <td>32</td>\n",
       "      <td>269</td>\n",
       "      <td>253</td>\n",
       "    </tr>\n",
       "    <tr>\n",
       "      <th>1</th>\n",
       "      <td>amdahl</td>\n",
       "      <td>470v/7a</td>\n",
       "      <td>29</td>\n",
       "      <td>8000</td>\n",
       "      <td>32000</td>\n",
       "      <td>32</td>\n",
       "      <td>8</td>\n",
       "      <td>32</td>\n",
       "      <td>220</td>\n",
       "      <td>253</td>\n",
       "    </tr>\n",
       "    <tr>\n",
       "      <th>2</th>\n",
       "      <td>amdahl</td>\n",
       "      <td>470v/7b</td>\n",
       "      <td>29</td>\n",
       "      <td>8000</td>\n",
       "      <td>32000</td>\n",
       "      <td>32</td>\n",
       "      <td>8</td>\n",
       "      <td>32</td>\n",
       "      <td>172</td>\n",
       "      <td>253</td>\n",
       "    </tr>\n",
       "    <tr>\n",
       "      <th>3</th>\n",
       "      <td>amdahl</td>\n",
       "      <td>470v/7c</td>\n",
       "      <td>29</td>\n",
       "      <td>8000</td>\n",
       "      <td>16000</td>\n",
       "      <td>32</td>\n",
       "      <td>8</td>\n",
       "      <td>16</td>\n",
       "      <td>132</td>\n",
       "      <td>132</td>\n",
       "    </tr>\n",
       "    <tr>\n",
       "      <th>4</th>\n",
       "      <td>amdahl</td>\n",
       "      <td>470v/b</td>\n",
       "      <td>26</td>\n",
       "      <td>8000</td>\n",
       "      <td>32000</td>\n",
       "      <td>64</td>\n",
       "      <td>8</td>\n",
       "      <td>32</td>\n",
       "      <td>318</td>\n",
       "      <td>290</td>\n",
       "    </tr>\n",
       "    <tr>\n",
       "      <th>...</th>\n",
       "      <td>...</td>\n",
       "      <td>...</td>\n",
       "      <td>...</td>\n",
       "      <td>...</td>\n",
       "      <td>...</td>\n",
       "      <td>...</td>\n",
       "      <td>...</td>\n",
       "      <td>...</td>\n",
       "      <td>...</td>\n",
       "      <td>...</td>\n",
       "    </tr>\n",
       "    <tr>\n",
       "      <th>203</th>\n",
       "      <td>sperry</td>\n",
       "      <td>80/8</td>\n",
       "      <td>124</td>\n",
       "      <td>1000</td>\n",
       "      <td>8000</td>\n",
       "      <td>0</td>\n",
       "      <td>1</td>\n",
       "      <td>8</td>\n",
       "      <td>42</td>\n",
       "      <td>37</td>\n",
       "    </tr>\n",
       "    <tr>\n",
       "      <th>204</th>\n",
       "      <td>sperry</td>\n",
       "      <td>90/80-model-3</td>\n",
       "      <td>98</td>\n",
       "      <td>1000</td>\n",
       "      <td>8000</td>\n",
       "      <td>32</td>\n",
       "      <td>2</td>\n",
       "      <td>8</td>\n",
       "      <td>46</td>\n",
       "      <td>50</td>\n",
       "    </tr>\n",
       "    <tr>\n",
       "      <th>205</th>\n",
       "      <td>sratus</td>\n",
       "      <td>32</td>\n",
       "      <td>125</td>\n",
       "      <td>2000</td>\n",
       "      <td>8000</td>\n",
       "      <td>0</td>\n",
       "      <td>2</td>\n",
       "      <td>14</td>\n",
       "      <td>52</td>\n",
       "      <td>41</td>\n",
       "    </tr>\n",
       "    <tr>\n",
       "      <th>206</th>\n",
       "      <td>wang</td>\n",
       "      <td>vs-100</td>\n",
       "      <td>480</td>\n",
       "      <td>512</td>\n",
       "      <td>8000</td>\n",
       "      <td>32</td>\n",
       "      <td>0</td>\n",
       "      <td>0</td>\n",
       "      <td>67</td>\n",
       "      <td>47</td>\n",
       "    </tr>\n",
       "    <tr>\n",
       "      <th>207</th>\n",
       "      <td>wang</td>\n",
       "      <td>vs-90</td>\n",
       "      <td>480</td>\n",
       "      <td>1000</td>\n",
       "      <td>4000</td>\n",
       "      <td>0</td>\n",
       "      <td>0</td>\n",
       "      <td>0</td>\n",
       "      <td>45</td>\n",
       "      <td>25</td>\n",
       "    </tr>\n",
       "  </tbody>\n",
       "</table>\n",
       "<p>208 rows × 10 columns</p>\n",
       "</div>"
      ],
      "text/plain": [
       "    adviser          32/60  125   256   6000  256.1  16  128  198  199\n",
       "0    amdahl         470v/7   29  8000  32000     32   8   32  269  253\n",
       "1    amdahl        470v/7a   29  8000  32000     32   8   32  220  253\n",
       "2    amdahl        470v/7b   29  8000  32000     32   8   32  172  253\n",
       "3    amdahl        470v/7c   29  8000  16000     32   8   16  132  132\n",
       "4    amdahl         470v/b   26  8000  32000     64   8   32  318  290\n",
       "..      ...            ...  ...   ...    ...    ...  ..  ...  ...  ...\n",
       "203  sperry           80/8  124  1000   8000      0   1    8   42   37\n",
       "204  sperry  90/80-model-3   98  1000   8000     32   2    8   46   50\n",
       "205  sratus             32  125  2000   8000      0   2   14   52   41\n",
       "206    wang         vs-100  480   512   8000     32   0    0   67   47\n",
       "207    wang          vs-90  480  1000   4000      0   0    0   45   25\n",
       "\n",
       "[208 rows x 10 columns]"
      ]
     },
     "execution_count": 17,
     "metadata": {},
     "output_type": "execute_result"
    }
   ],
   "source": [
    "# Loading the dataset\n",
    "hardware = pd.read_csv(\"./hardware/machine.data\")\n",
    "hardware"
   ]
  },
  {
   "cell_type": "code",
   "execution_count": 18,
   "metadata": {},
   "outputs": [
    {
     "name": "stdout",
     "output_type": "stream",
     "text": [
      "Dimension of the dataset is:  (208, 10)\n",
      "The names of the variables in the dataset are:  Index(['adviser', '32/60', '125', '256', '6000', '256.1', '16', '128', '198',\n",
      "       '199'],\n",
      "      dtype='object')\n"
     ]
    }
   ],
   "source": [
    "# Displaying the characteristics of the dataset\n",
    "print(\"Dimension of the dataset is: \", hardware.shape)\n",
    "print(\"The names of the variables in the dataset are: \", hardware.columns)"
   ]
  },
  {
   "cell_type": "code",
   "execution_count": 19,
   "metadata": {},
   "outputs": [
    {
     "data": {
      "text/plain": [
       "Index(['125', '256', '6000', '256.1', '16', '128', '198', '199'], dtype='object')"
      ]
     },
     "execution_count": 19,
     "metadata": {},
     "output_type": "execute_result"
    }
   ],
   "source": [
    "# Dropping the first 2 columns as they are the vendor name and model name\n",
    "hardware = hardware.drop([\"adviser\", \"32/60\"], axis = 1)\n",
    "hardware.columns"
   ]
  },
  {
   "cell_type": "code",
   "execution_count": 20,
   "metadata": {},
   "outputs": [
    {
     "data": {
      "text/html": [
       "<div>\n",
       "<style scoped>\n",
       "    .dataframe tbody tr th:only-of-type {\n",
       "        vertical-align: middle;\n",
       "    }\n",
       "\n",
       "    .dataframe tbody tr th {\n",
       "        vertical-align: top;\n",
       "    }\n",
       "\n",
       "    .dataframe thead th {\n",
       "        text-align: right;\n",
       "    }\n",
       "</style>\n",
       "<table border=\"1\" class=\"dataframe\">\n",
       "  <thead>\n",
       "    <tr style=\"text-align: right;\">\n",
       "      <th></th>\n",
       "      <th>MYCT</th>\n",
       "      <th>MMIN</th>\n",
       "      <th>MMAX</th>\n",
       "      <th>CACH</th>\n",
       "      <th>CHMIN</th>\n",
       "      <th>CHMAX</th>\n",
       "      <th>PRP</th>\n",
       "      <th>ERP</th>\n",
       "    </tr>\n",
       "  </thead>\n",
       "  <tbody>\n",
       "    <tr>\n",
       "      <th>0</th>\n",
       "      <td>29</td>\n",
       "      <td>8000</td>\n",
       "      <td>32000</td>\n",
       "      <td>32</td>\n",
       "      <td>8</td>\n",
       "      <td>32</td>\n",
       "      <td>269</td>\n",
       "      <td>253</td>\n",
       "    </tr>\n",
       "    <tr>\n",
       "      <th>1</th>\n",
       "      <td>29</td>\n",
       "      <td>8000</td>\n",
       "      <td>32000</td>\n",
       "      <td>32</td>\n",
       "      <td>8</td>\n",
       "      <td>32</td>\n",
       "      <td>220</td>\n",
       "      <td>253</td>\n",
       "    </tr>\n",
       "    <tr>\n",
       "      <th>2</th>\n",
       "      <td>29</td>\n",
       "      <td>8000</td>\n",
       "      <td>32000</td>\n",
       "      <td>32</td>\n",
       "      <td>8</td>\n",
       "      <td>32</td>\n",
       "      <td>172</td>\n",
       "      <td>253</td>\n",
       "    </tr>\n",
       "    <tr>\n",
       "      <th>3</th>\n",
       "      <td>29</td>\n",
       "      <td>8000</td>\n",
       "      <td>16000</td>\n",
       "      <td>32</td>\n",
       "      <td>8</td>\n",
       "      <td>16</td>\n",
       "      <td>132</td>\n",
       "      <td>132</td>\n",
       "    </tr>\n",
       "    <tr>\n",
       "      <th>4</th>\n",
       "      <td>26</td>\n",
       "      <td>8000</td>\n",
       "      <td>32000</td>\n",
       "      <td>64</td>\n",
       "      <td>8</td>\n",
       "      <td>32</td>\n",
       "      <td>318</td>\n",
       "      <td>290</td>\n",
       "    </tr>\n",
       "  </tbody>\n",
       "</table>\n",
       "</div>"
      ],
      "text/plain": [
       "   MYCT  MMIN   MMAX  CACH  CHMIN  CHMAX  PRP  ERP\n",
       "0    29  8000  32000    32      8     32  269  253\n",
       "1    29  8000  32000    32      8     32  220  253\n",
       "2    29  8000  32000    32      8     32  172  253\n",
       "3    29  8000  16000    32      8     16  132  132\n",
       "4    26  8000  32000    64      8     32  318  290"
      ]
     },
     "execution_count": 20,
     "metadata": {},
     "output_type": "execute_result"
    }
   ],
   "source": [
    "# Renaming the headers as per the information from the datasource\n",
    "hardware.columns = [\"MYCT\", \"MMIN\", \"MMAX\", \"CACH\", \"CHMIN\", \"CHMAX\", \"PRP\", \"ERP\"]\n",
    "hardware.head()"
   ]
  },
  {
   "cell_type": "code",
   "execution_count": 21,
   "metadata": {},
   "outputs": [
    {
     "name": "stdout",
     "output_type": "stream",
     "text": [
      "Dimension of the dataset is:  (208, 8)\n",
      "The names of the variables in the dataset are:  Index(['MYCT', 'MMIN', 'MMAX', 'CACH', 'CHMIN', 'CHMAX', 'PRP', 'ERP'], dtype='object')\n"
     ]
    }
   ],
   "source": [
    "# Displaying the characteristics of the dataset\n",
    "print(\"Dimension of the dataset is: \", hardware.shape)\n",
    "print(\"The names of the variables in the dataset are: \", hardware.columns)"
   ]
  },
  {
   "cell_type": "code",
   "execution_count": 22,
   "metadata": {},
   "outputs": [
    {
     "name": "stdout",
     "output_type": "stream",
     "text": [
      "Null values in the dataset is: \n",
      " MYCT     0\n",
      "MMIN     0\n",
      "MMAX     0\n",
      "CACH     0\n",
      "CHMIN    0\n",
      "CHMAX    0\n",
      "PRP      0\n",
      "ERP      0\n",
      "dtype: int64\n",
      "Not Available values in the dataset is: \n",
      " MYCT     0\n",
      "MMIN     0\n",
      "MMAX     0\n",
      "CACH     0\n",
      "CHMIN    0\n",
      "CHMAX    0\n",
      "PRP      0\n",
      "ERP      0\n",
      "dtype: int64\n"
     ]
    }
   ],
   "source": [
    "# Checking the missing values\n",
    "print(\"Null values in the dataset is: \\n\", hardware.isnull().sum())\n",
    "print(\"Not Available values in the dataset is: \\n\", hardware.isna().sum())"
   ]
  },
  {
   "cell_type": "code",
   "execution_count": 23,
   "metadata": {},
   "outputs": [],
   "source": [
    "# Using random seed function to generate the same dataset\n",
    "np.random.seed(3000)"
   ]
  },
  {
   "cell_type": "code",
   "execution_count": 24,
   "metadata": {},
   "outputs": [],
   "source": [
    "# Train-Test Split for both independent and dependent features\n",
    "training, test = train_test_split(hardware, test_size = 0.3)"
   ]
  },
  {
   "cell_type": "code",
   "execution_count": 25,
   "metadata": {},
   "outputs": [],
   "source": [
    "x_trg = training.drop(\"ERP\", axis = 1)\n",
    "y_trg = training[\"ERP\"]\n",
    "\n",
    "x_test = test.drop(\"ERP\", axis = 1)\n",
    "y_test = test[\"ERP\"]"
   ]
  },
  {
   "cell_type": "code",
   "execution_count": 26,
   "metadata": {},
   "outputs": [
    {
     "data": {
      "text/plain": [
       "(145, 7)"
      ]
     },
     "execution_count": 26,
     "metadata": {},
     "output_type": "execute_result"
    }
   ],
   "source": [
    "x_trg.shape"
   ]
  },
  {
   "cell_type": "code",
   "execution_count": 27,
   "metadata": {},
   "outputs": [
    {
     "data": {
      "text/plain": [
       "(145,)"
      ]
     },
     "execution_count": 27,
     "metadata": {},
     "output_type": "execute_result"
    }
   ],
   "source": [
    "y_trg.shape"
   ]
  },
  {
   "cell_type": "code",
   "execution_count": 28,
   "metadata": {},
   "outputs": [
    {
     "data": {
      "text/plain": [
       "(63, 7)"
      ]
     },
     "execution_count": 28,
     "metadata": {},
     "output_type": "execute_result"
    }
   ],
   "source": [
    "x_test.shape"
   ]
  },
  {
   "cell_type": "code",
   "execution_count": 29,
   "metadata": {},
   "outputs": [
    {
     "data": {
      "text/plain": [
       "(63,)"
      ]
     },
     "execution_count": 29,
     "metadata": {},
     "output_type": "execute_result"
    }
   ],
   "source": [
    "y_test.shape"
   ]
  },
  {
   "cell_type": "markdown",
   "metadata": {},
   "source": [
    "### Feature Scaling"
   ]
  },
  {
   "cell_type": "code",
   "execution_count": 30,
   "metadata": {},
   "outputs": [],
   "source": [
    "sc = StandardScaler()\n",
    "\n",
    "x_trg = sc.fit_transform(x_trg)\n",
    "x_test = sc.fit_transform(x_test)"
   ]
  },
  {
   "cell_type": "code",
   "execution_count": 31,
   "metadata": {},
   "outputs": [],
   "source": [
    "# Encoding the categorical variables\n",
    "labelencoder_y = LabelEncoder()\n",
    "y_trg = labelencoder_y.fit_transform(y_trg)\n",
    "y_test = labelencoder_y.fit_transform(y_test)"
   ]
  },
  {
   "cell_type": "code",
   "execution_count": 32,
   "metadata": {},
   "outputs": [
    {
     "name": "stdout",
     "output_type": "stream",
     "text": [
      "RMSE value for k =  1  is: 17.360\n",
      "RMSE value for k =  2  is: 17.545\n",
      "RMSE value for k =  3  is: 17.642\n",
      "RMSE value for k =  4  is: 17.525\n",
      "RMSE value for k =  5  is: 17.687\n",
      "RMSE value for k =  6  is: 17.673\n",
      "RMSE value for k =  7  is: 17.328\n",
      "RMSE value for k =  8  is: 17.345\n",
      "RMSE value for k =  9  is: 17.168\n",
      "RMSE value for k =  10  is: 16.972\n",
      "RMSE value for k =  11  is: 16.913\n",
      "RMSE value for k =  12  is: 16.491\n",
      "RMSE value for k =  13  is: 16.304\n",
      "RMSE value for k =  14  is: 16.035\n",
      "RMSE value for k =  15  is: 15.750\n",
      "RMSE value for k =  16  is: 15.556\n",
      "RMSE value for k =  17  is: 15.477\n",
      "RMSE value for k =  18  is: 15.299\n",
      "RMSE value for k =  19  is: 15.038\n",
      "RMSE value for k =  20  is: 14.816\n",
      "RMSE value for k =  21  is: 14.640\n",
      "RMSE value for k =  22  is: 14.439\n",
      "RMSE value for k =  23  is: 14.375\n",
      "RMSE value for k =  24  is: 14.160\n",
      "RMSE value for k =  25  is: 14.041\n",
      "RMSE value for k =  26  is: 13.805\n",
      "RMSE value for k =  27  is: 13.655\n",
      "RMSE value for k =  28  is: 13.529\n",
      "RMSE value for k =  29  is: 13.500\n",
      "RMSE value for k =  30  is: 13.361\n"
     ]
    }
   ],
   "source": [
    "# Creating a list to store RMSE values of different values of k\n",
    "knn_rmselist = []\n",
    "\n",
    "for K in range(30):\n",
    "    K = K + 1\n",
    "    # Creating model\n",
    "    knn_hardware = KNeighborsRegressor(n_neighbors = K)\n",
    "    \n",
    "    # Fit the model\n",
    "    knn_hardware.fit(x_trg, y_trg)\n",
    "    \n",
    "    # Predict on test set\n",
    "    knn_pred = knn_hardware.predict(x_test)\n",
    "    \n",
    "    # Calculate the RMSE for the model\n",
    "    knn_rmse = sqrt(mean_squared_error(y_test, knn_pred))\n",
    "    print(\"RMSE value for k = \", K,\" is: %0.3f\" %knn_rmse)\n",
    "    \n",
    "    # Store RMSE values in the array\n",
    "    knn_rmselist.append(knn_rmse)"
   ]
  },
  {
   "cell_type": "code",
   "execution_count": 33,
   "metadata": {},
   "outputs": [
    {
     "data": {
      "text/plain": [
       "<AxesSubplot:>"
      ]
     },
     "execution_count": 33,
     "metadata": {},
     "output_type": "execute_result"
    },
    {
     "data": {
      "image/png": "[encoded data removed]",
      "text/plain": [
       "<Figure size 432x288 with 1 Axes>"
      ]
     },
     "metadata": {
      "needs_background": "light"
     },
     "output_type": "display_data"
    }
   ],
   "source": [
    "# Display the RMSE of KNN models for different values of k\n",
    "curve = pd.DataFrame(knn_rmselist)\n",
    "curve.plot()"
   ]
  },
  {
   "cell_type": "markdown",
   "metadata": {},
   "source": [
    "### Compare the KNN model with Linear Regression Model"
   ]
  },
  {
   "cell_type": "code",
   "execution_count": 34,
   "metadata": {},
   "outputs": [
    {
     "name": "stdout",
     "output_type": "stream",
     "text": [
      "Coefficient of independent variables: \n",
      " [ -2.70796989   4.87806313  24.61551806  14.29949788   0.23671338\n",
      "   0.86816596 -19.31672678]\n",
      "Intercept in the model:  33.99310344827586\n",
      "RMSE value for Linear Regression model is: 21.057\n"
     ]
    }
   ],
   "source": [
    "# Linear Regression Model building\n",
    "lm_hardware = linear_model.LinearRegression()\n",
    "\n",
    "lm_hardware.fit(x_trg, y_trg)\n",
    "lm_pred = lm_hardware.predict(x_test)\n",
    "\n",
    "print(\"Coefficient of independent variables: \\n\", lm_hardware.coef_)\n",
    "print(\"Intercept in the model: \", lm_hardware.intercept_)\n",
    "\n",
    "lm_rmse = sqrt(mean_squared_error(y_test, lm_pred))\n",
    "print(\"RMSE value for Linear Regression model is: %0.3f\" %lm_rmse)"
   ]
  },
  {
   "cell_type": "markdown",
   "metadata": {},
   "source": [
    "The model performances are:\n",
    "- KNN = Least value of RMSE is 13.361\n",
    "- Linear Regression = Least value of RMSE is 21.057\n",
    "\n",
    "From above RMSE values of both the models we can conclude that KNN model is the best model for this regression problem."
   ]
  },
  {
   "cell_type": "code",
   "execution_count": null,
   "metadata": {},
   "outputs": [],
   "source": []
  }
 ],
 "metadata": {
  "kernelspec": {
   "display_name": "Python 3",
   "language": "python",
   "name": "python3"
  },
  "language_info": {
   "codemirror_mode": {
    "name": "ipython",
    "version": 3
   },
   "file_extension": ".py",
   "mimetype": "text/x-python",
   "name": "python",
   "nbconvert_exporter": "python",
   "pygments_lexer": "ipython3",
   "version": "3.8.6"
  }
 },
 "nbformat": 4,
 "nbformat_minor": 4
}
