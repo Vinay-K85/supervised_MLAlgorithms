{
 "cells": [
  {
   "cell_type": "markdown",
   "metadata": {},
   "source": [
    "# Support Vector Machines (SVM)\n",
    "\n",
    "SVM is one of the powerful algorithm available but it requires careful data preprocessing. In this algorithm each data point is plotted in n-dimensional space where `n` is number of attributes in the dataset. \n",
    "\n",
    "For linear data, we can compare SVM with linear regression and for non-linear data, we can compare SVM with logistic regression."
   ]
  },
  {
   "cell_type": "markdown",
   "metadata": {},
   "source": [
    "## SVM (Classification Problem)\n",
    "\n",
    "Data Source: [Banknote Authentication](\"https://archive.ics.uci.edu/ml/datasets/banknote+authentication\")\n",
    "\n",
    "This is a text data, we need to convert this to .csv format and rename the columns as per data source\n",
    "\n",
    "**Attributes**\n",
    "- variance of Wavelet Transformed image (continuous)\n",
    "- skewness of Wavelet Transformed image (continuous)\n",
    "- curtosis of Wavelet Transformed image (continuous)\n",
    "- entropy of image (continuous)\n",
    "- class (integer) "
   ]
  },
  {
   "cell_type": "code",
   "execution_count": 1,
   "metadata": {},
   "outputs": [],
   "source": [
    "# Import necessary packages\n",
    "import pandas as pd\n",
    "import numpy as np\n",
    "from sklearn.model_selection import train_test_split\n",
    "from sklearn.svm import LinearSVC\n",
    "from sklearn.neighbors import KNeighborsClassifier\n",
    "from sklearn.naive_bayes import GaussianNB\n",
    "from sklearn.linear_model import LogisticRegression\n",
    "from sklearn.tree import DecisionTreeClassifier\n",
    "from sklearn.metrics import accuracy_score, confusion_matrix, classification_report\n",
    "\n",
    "import warnings\n",
    "warnings.filterwarnings(\"ignore\")"
   ]
  },
  {
   "cell_type": "code",
   "execution_count": 2,
   "metadata": {},
   "outputs": [
    {
     "data": {
      "text/html": [
       "<div>\n",
       "<style scoped>\n",
       "    .dataframe tbody tr th:only-of-type {\n",
       "        vertical-align: middle;\n",
       "    }\n",
       "\n",
       "    .dataframe tbody tr th {\n",
       "        vertical-align: top;\n",
       "    }\n",
       "\n",
       "    .dataframe thead th {\n",
       "        text-align: right;\n",
       "    }\n",
       "</style>\n",
       "<table border=\"1\" class=\"dataframe\">\n",
       "  <thead>\n",
       "    <tr style=\"text-align: right;\">\n",
       "      <th></th>\n",
       "      <th>3.6216</th>\n",
       "      <th>8.6661</th>\n",
       "      <th>-2.8073</th>\n",
       "      <th>-0.44699</th>\n",
       "      <th>0</th>\n",
       "    </tr>\n",
       "  </thead>\n",
       "  <tbody>\n",
       "    <tr>\n",
       "      <th>0</th>\n",
       "      <td>4.54590</td>\n",
       "      <td>8.16740</td>\n",
       "      <td>-2.4586</td>\n",
       "      <td>-1.46210</td>\n",
       "      <td>0</td>\n",
       "    </tr>\n",
       "    <tr>\n",
       "      <th>1</th>\n",
       "      <td>3.86600</td>\n",
       "      <td>-2.63830</td>\n",
       "      <td>1.9242</td>\n",
       "      <td>0.10645</td>\n",
       "      <td>0</td>\n",
       "    </tr>\n",
       "    <tr>\n",
       "      <th>2</th>\n",
       "      <td>3.45660</td>\n",
       "      <td>9.52280</td>\n",
       "      <td>-4.0112</td>\n",
       "      <td>-3.59440</td>\n",
       "      <td>0</td>\n",
       "    </tr>\n",
       "    <tr>\n",
       "      <th>3</th>\n",
       "      <td>0.32924</td>\n",
       "      <td>-4.45520</td>\n",
       "      <td>4.5718</td>\n",
       "      <td>-0.98880</td>\n",
       "      <td>0</td>\n",
       "    </tr>\n",
       "    <tr>\n",
       "      <th>4</th>\n",
       "      <td>4.36840</td>\n",
       "      <td>9.67180</td>\n",
       "      <td>-3.9606</td>\n",
       "      <td>-3.16250</td>\n",
       "      <td>0</td>\n",
       "    </tr>\n",
       "    <tr>\n",
       "      <th>...</th>\n",
       "      <td>...</td>\n",
       "      <td>...</td>\n",
       "      <td>...</td>\n",
       "      <td>...</td>\n",
       "      <td>...</td>\n",
       "    </tr>\n",
       "    <tr>\n",
       "      <th>1366</th>\n",
       "      <td>0.40614</td>\n",
       "      <td>1.34920</td>\n",
       "      <td>-1.4501</td>\n",
       "      <td>-0.55949</td>\n",
       "      <td>1</td>\n",
       "    </tr>\n",
       "    <tr>\n",
       "      <th>1367</th>\n",
       "      <td>-1.38870</td>\n",
       "      <td>-4.87730</td>\n",
       "      <td>6.4774</td>\n",
       "      <td>0.34179</td>\n",
       "      <td>1</td>\n",
       "    </tr>\n",
       "    <tr>\n",
       "      <th>1368</th>\n",
       "      <td>-3.75030</td>\n",
       "      <td>-13.45860</td>\n",
       "      <td>17.5932</td>\n",
       "      <td>-2.77710</td>\n",
       "      <td>1</td>\n",
       "    </tr>\n",
       "    <tr>\n",
       "      <th>1369</th>\n",
       "      <td>-3.56370</td>\n",
       "      <td>-8.38270</td>\n",
       "      <td>12.3930</td>\n",
       "      <td>-1.28230</td>\n",
       "      <td>1</td>\n",
       "    </tr>\n",
       "    <tr>\n",
       "      <th>1370</th>\n",
       "      <td>-2.54190</td>\n",
       "      <td>-0.65804</td>\n",
       "      <td>2.6842</td>\n",
       "      <td>1.19520</td>\n",
       "      <td>1</td>\n",
       "    </tr>\n",
       "  </tbody>\n",
       "</table>\n",
       "<p>1371 rows × 5 columns</p>\n",
       "</div>"
      ],
      "text/plain": [
       "       3.6216    8.6661  -2.8073  -0.44699  0\n",
       "0     4.54590   8.16740  -2.4586  -1.46210  0\n",
       "1     3.86600  -2.63830   1.9242   0.10645  0\n",
       "2     3.45660   9.52280  -4.0112  -3.59440  0\n",
       "3     0.32924  -4.45520   4.5718  -0.98880  0\n",
       "4     4.36840   9.67180  -3.9606  -3.16250  0\n",
       "...       ...       ...      ...       ... ..\n",
       "1366  0.40614   1.34920  -1.4501  -0.55949  1\n",
       "1367 -1.38870  -4.87730   6.4774   0.34179  1\n",
       "1368 -3.75030 -13.45860  17.5932  -2.77710  1\n",
       "1369 -3.56370  -8.38270  12.3930  -1.28230  1\n",
       "1370 -2.54190  -0.65804   2.6842   1.19520  1\n",
       "\n",
       "[1371 rows x 5 columns]"
      ]
     },
     "execution_count": 2,
     "metadata": {},
     "output_type": "execute_result"
    }
   ],
   "source": [
    "# Loading the dataset\n",
    "banknote = pd.read_csv(\"./banknote/data_banknote_authentication.txt\")\n",
    "banknote"
   ]
  },
  {
   "cell_type": "code",
   "execution_count": 3,
   "metadata": {},
   "outputs": [],
   "source": [
    "# Convert this dataset into .csv format\n",
    "banknote.to_csv(\"banknote.csv\", index = None)"
   ]
  },
  {
   "cell_type": "code",
   "execution_count": 4,
   "metadata": {},
   "outputs": [
    {
     "data": {
      "text/html": [
       "<div>\n",
       "<style scoped>\n",
       "    .dataframe tbody tr th:only-of-type {\n",
       "        vertical-align: middle;\n",
       "    }\n",
       "\n",
       "    .dataframe tbody tr th {\n",
       "        vertical-align: top;\n",
       "    }\n",
       "\n",
       "    .dataframe thead th {\n",
       "        text-align: right;\n",
       "    }\n",
       "</style>\n",
       "<table border=\"1\" class=\"dataframe\">\n",
       "  <thead>\n",
       "    <tr style=\"text-align: right;\">\n",
       "      <th></th>\n",
       "      <th>3.6216</th>\n",
       "      <th>8.6661</th>\n",
       "      <th>-2.8073</th>\n",
       "      <th>-0.44699</th>\n",
       "      <th>0</th>\n",
       "    </tr>\n",
       "  </thead>\n",
       "  <tbody>\n",
       "    <tr>\n",
       "      <th>0</th>\n",
       "      <td>4.54590</td>\n",
       "      <td>8.1674</td>\n",
       "      <td>-2.4586</td>\n",
       "      <td>-1.46210</td>\n",
       "      <td>0</td>\n",
       "    </tr>\n",
       "    <tr>\n",
       "      <th>1</th>\n",
       "      <td>3.86600</td>\n",
       "      <td>-2.6383</td>\n",
       "      <td>1.9242</td>\n",
       "      <td>0.10645</td>\n",
       "      <td>0</td>\n",
       "    </tr>\n",
       "    <tr>\n",
       "      <th>2</th>\n",
       "      <td>3.45660</td>\n",
       "      <td>9.5228</td>\n",
       "      <td>-4.0112</td>\n",
       "      <td>-3.59440</td>\n",
       "      <td>0</td>\n",
       "    </tr>\n",
       "    <tr>\n",
       "      <th>3</th>\n",
       "      <td>0.32924</td>\n",
       "      <td>-4.4552</td>\n",
       "      <td>4.5718</td>\n",
       "      <td>-0.98880</td>\n",
       "      <td>0</td>\n",
       "    </tr>\n",
       "    <tr>\n",
       "      <th>4</th>\n",
       "      <td>4.36840</td>\n",
       "      <td>9.6718</td>\n",
       "      <td>-3.9606</td>\n",
       "      <td>-3.16250</td>\n",
       "      <td>0</td>\n",
       "    </tr>\n",
       "  </tbody>\n",
       "</table>\n",
       "</div>"
      ],
      "text/plain": [
       "    3.6216  8.6661  -2.8073  -0.44699  0\n",
       "0  4.54590  8.1674  -2.4586  -1.46210  0\n",
       "1  3.86600 -2.6383   1.9242   0.10645  0\n",
       "2  3.45660  9.5228  -4.0112  -3.59440  0\n",
       "3  0.32924 -4.4552   4.5718  -0.98880  0\n",
       "4  4.36840  9.6718  -3.9606  -3.16250  0"
      ]
     },
     "execution_count": 4,
     "metadata": {},
     "output_type": "execute_result"
    }
   ],
   "source": [
    "# Load the dataset\n",
    "banknote = pd.read_csv(\"./banknote/banknote.csv\")\n",
    "banknote.head()"
   ]
  },
  {
   "cell_type": "code",
   "execution_count": 5,
   "metadata": {},
   "outputs": [
    {
     "data": {
      "text/html": [
       "<div>\n",
       "<style scoped>\n",
       "    .dataframe tbody tr th:only-of-type {\n",
       "        vertical-align: middle;\n",
       "    }\n",
       "\n",
       "    .dataframe tbody tr th {\n",
       "        vertical-align: top;\n",
       "    }\n",
       "\n",
       "    .dataframe thead th {\n",
       "        text-align: right;\n",
       "    }\n",
       "</style>\n",
       "<table border=\"1\" class=\"dataframe\">\n",
       "  <thead>\n",
       "    <tr style=\"text-align: right;\">\n",
       "      <th></th>\n",
       "      <th>variance</th>\n",
       "      <th>skewness</th>\n",
       "      <th>curtosis</th>\n",
       "      <th>entropy</th>\n",
       "      <th>class</th>\n",
       "    </tr>\n",
       "  </thead>\n",
       "  <tbody>\n",
       "    <tr>\n",
       "      <th>0</th>\n",
       "      <td>4.54590</td>\n",
       "      <td>8.1674</td>\n",
       "      <td>-2.4586</td>\n",
       "      <td>-1.46210</td>\n",
       "      <td>0</td>\n",
       "    </tr>\n",
       "    <tr>\n",
       "      <th>1</th>\n",
       "      <td>3.86600</td>\n",
       "      <td>-2.6383</td>\n",
       "      <td>1.9242</td>\n",
       "      <td>0.10645</td>\n",
       "      <td>0</td>\n",
       "    </tr>\n",
       "    <tr>\n",
       "      <th>2</th>\n",
       "      <td>3.45660</td>\n",
       "      <td>9.5228</td>\n",
       "      <td>-4.0112</td>\n",
       "      <td>-3.59440</td>\n",
       "      <td>0</td>\n",
       "    </tr>\n",
       "    <tr>\n",
       "      <th>3</th>\n",
       "      <td>0.32924</td>\n",
       "      <td>-4.4552</td>\n",
       "      <td>4.5718</td>\n",
       "      <td>-0.98880</td>\n",
       "      <td>0</td>\n",
       "    </tr>\n",
       "    <tr>\n",
       "      <th>4</th>\n",
       "      <td>4.36840</td>\n",
       "      <td>9.6718</td>\n",
       "      <td>-3.9606</td>\n",
       "      <td>-3.16250</td>\n",
       "      <td>0</td>\n",
       "    </tr>\n",
       "  </tbody>\n",
       "</table>\n",
       "</div>"
      ],
      "text/plain": [
       "   variance  skewness  curtosis  entropy  class\n",
       "0   4.54590    8.1674   -2.4586 -1.46210      0\n",
       "1   3.86600   -2.6383    1.9242  0.10645      0\n",
       "2   3.45660    9.5228   -4.0112 -3.59440      0\n",
       "3   0.32924   -4.4552    4.5718 -0.98880      0\n",
       "4   4.36840    9.6718   -3.9606 -3.16250      0"
      ]
     },
     "execution_count": 5,
     "metadata": {},
     "output_type": "execute_result"
    }
   ],
   "source": [
    "# Column rename\n",
    "banknote.columns = [\"variance\", \"skewness\", \"curtosis\", \"entropy\", \"class\"]\n",
    "banknote.head()"
   ]
  },
  {
   "cell_type": "code",
   "execution_count": 6,
   "metadata": {},
   "outputs": [
    {
     "name": "stdout",
     "output_type": "stream",
     "text": [
      "Dimension of dataset is:  (1371, 5)\n",
      "The names of the variables in the data are: \n",
      " Index(['variance', 'skewness', 'curtosis', 'entropy', 'class'], dtype='object')\n"
     ]
    }
   ],
   "source": [
    "# Display the characteristics of the dataset\n",
    "print(\"Dimension of dataset is: \", banknote.shape)\n",
    "print(\"The names of the variables in the data are: \\n\", banknote.columns)"
   ]
  },
  {
   "cell_type": "code",
   "execution_count": 7,
   "metadata": {},
   "outputs": [],
   "source": [
    "# Using random seed function for generating the same dataset\n",
    "np.random.seed(3000)"
   ]
  },
  {
   "cell_type": "code",
   "execution_count": 8,
   "metadata": {},
   "outputs": [],
   "source": [
    "# Train-Test Split for both independent and dependent features\n",
    "training, test = train_test_split(banknote, test_size = 0.3)\n",
    "\n",
    "x_trg = training.drop(\"class\", axis = 1)\n",
    "y_trg = training[\"class\"]\n",
    "\n",
    "x_test = test.drop(\"class\", axis = 1)\n",
    "y_test = test[\"class\"]"
   ]
  },
  {
   "cell_type": "code",
   "execution_count": 9,
   "metadata": {},
   "outputs": [
    {
     "data": {
      "text/plain": [
       "(959, 4)"
      ]
     },
     "execution_count": 9,
     "metadata": {},
     "output_type": "execute_result"
    }
   ],
   "source": [
    "x_trg.shape"
   ]
  },
  {
   "cell_type": "code",
   "execution_count": 10,
   "metadata": {},
   "outputs": [
    {
     "data": {
      "text/plain": [
       "(959,)"
      ]
     },
     "execution_count": 10,
     "metadata": {},
     "output_type": "execute_result"
    }
   ],
   "source": [
    "y_trg.shape"
   ]
  },
  {
   "cell_type": "code",
   "execution_count": 11,
   "metadata": {},
   "outputs": [
    {
     "data": {
      "text/plain": [
       "(412, 4)"
      ]
     },
     "execution_count": 11,
     "metadata": {},
     "output_type": "execute_result"
    }
   ],
   "source": [
    "x_test.shape"
   ]
  },
  {
   "cell_type": "code",
   "execution_count": 12,
   "metadata": {},
   "outputs": [
    {
     "data": {
      "text/plain": [
       "(412,)"
      ]
     },
     "execution_count": 12,
     "metadata": {},
     "output_type": "execute_result"
    }
   ],
   "source": [
    "y_test.shape"
   ]
  },
  {
   "cell_type": "markdown",
   "metadata": {},
   "source": [
    "### Model Building - SVM"
   ]
  },
  {
   "cell_type": "code",
   "execution_count": 13,
   "metadata": {},
   "outputs": [
    {
     "name": "stdout",
     "output_type": "stream",
     "text": [
      "Accuracy of SVM model on training set is: 0.991\n",
      "Accuracy of SVM model on test set is: 0.983\n"
     ]
    }
   ],
   "source": [
    "svm_banknote = LinearSVC(random_state = 0)\n",
    "\n",
    "svm_banknote.fit(x_trg, y_trg)\n",
    "print(\"Accuracy of SVM model on training set is: %0.3f\" % svm_banknote.score(x_trg, y_trg))\n",
    "print(\"Accuracy of SVM model on test set is: %0.3f\" % svm_banknote.score(x_test, y_test))\n",
    "\n",
    "svm_pred = svm_banknote.predict(x_test)"
   ]
  },
  {
   "cell_type": "code",
   "execution_count": 14,
   "metadata": {},
   "outputs": [
    {
     "name": "stdout",
     "output_type": "stream",
     "text": [
      "The confusion matrix of SVM model: \n",
      " [[218   6]\n",
      " [  1 187]]\n"
     ]
    }
   ],
   "source": [
    "# Confusion Matrix - SVM model\n",
    "svm_results = confusion_matrix(y_test, svm_pred)\n",
    "print(\"The confusion matrix of SVM model: \\n\", svm_results)"
   ]
  },
  {
   "cell_type": "markdown",
   "metadata": {},
   "source": [
    "### Compare with kNN model"
   ]
  },
  {
   "cell_type": "code",
   "execution_count": 15,
   "metadata": {},
   "outputs": [
    {
     "name": "stdout",
     "output_type": "stream",
     "text": [
      "The accuracy of kNN model for k =  1  is: 1.000\n",
      "The confusion matrix is: \n",
      " [[224   0]\n",
      " [  0 188]]\n",
      "The accuracy of kNN model for k =  2  is: 1.000\n",
      "The confusion matrix is: \n",
      " [[224   0]\n",
      " [  0 188]]\n",
      "The accuracy of kNN model for k =  3  is: 1.000\n",
      "The confusion matrix is: \n",
      " [[224   0]\n",
      " [  0 188]]\n",
      "The accuracy of kNN model for k =  4  is: 1.000\n",
      "The confusion matrix is: \n",
      " [[224   0]\n",
      " [  0 188]]\n",
      "The accuracy of kNN model for k =  5  is: 1.000\n",
      "The confusion matrix is: \n",
      " [[224   0]\n",
      " [  0 188]]\n",
      "The accuracy of kNN model for k =  6  is: 1.000\n",
      "The confusion matrix is: \n",
      " [[224   0]\n",
      " [  0 188]]\n",
      "The accuracy of kNN model for k =  7  is: 1.000\n",
      "The confusion matrix is: \n",
      " [[224   0]\n",
      " [  0 188]]\n",
      "The accuracy of kNN model for k =  8  is: 1.000\n",
      "The confusion matrix is: \n",
      " [[224   0]\n",
      " [  0 188]]\n",
      "The accuracy of kNN model for k =  9  is: 1.000\n",
      "The confusion matrix is: \n",
      " [[224   0]\n",
      " [  0 188]]\n",
      "The accuracy of kNN model for k =  10  is: 1.000\n",
      "The confusion matrix is: \n",
      " [[224   0]\n",
      " [  0 188]]\n",
      "The accuracy of kNN model for k =  11  is: 1.000\n",
      "The confusion matrix is: \n",
      " [[224   0]\n",
      " [  0 188]]\n",
      "The accuracy of kNN model for k =  12  is: 1.000\n",
      "The confusion matrix is: \n",
      " [[224   0]\n",
      " [  0 188]]\n",
      "The accuracy of kNN model for k =  13  is: 1.000\n",
      "The confusion matrix is: \n",
      " [[224   0]\n",
      " [  0 188]]\n",
      "The accuracy of kNN model for k =  14  is: 1.000\n",
      "The confusion matrix is: \n",
      " [[224   0]\n",
      " [  0 188]]\n",
      "The accuracy of kNN model for k =  15  is: 0.998\n",
      "The confusion matrix is: \n",
      " [[223   1]\n",
      " [  0 188]]\n",
      "The accuracy of kNN model for k =  16  is: 1.000\n",
      "The confusion matrix is: \n",
      " [[224   0]\n",
      " [  0 188]]\n",
      "The accuracy of kNN model for k =  17  is: 0.993\n",
      "The confusion matrix is: \n",
      " [[221   3]\n",
      " [  0 188]]\n",
      "The accuracy of kNN model for k =  18  is: 0.993\n",
      "The confusion matrix is: \n",
      " [[221   3]\n",
      " [  0 188]]\n",
      "The accuracy of kNN model for k =  19  is: 0.993\n",
      "The confusion matrix is: \n",
      " [[221   3]\n",
      " [  0 188]]\n",
      "The accuracy of kNN model for k =  20  is: 0.993\n",
      "The confusion matrix is: \n",
      " [[221   3]\n",
      " [  0 188]]\n",
      "The accuracy of kNN model for k =  21  is: 0.993\n",
      "The confusion matrix is: \n",
      " [[221   3]\n",
      " [  0 188]]\n",
      "The maximum accuracy using kNN is: 1.000\n"
     ]
    }
   ],
   "source": [
    "# Model Building - kNN\n",
    "knn_accuracylist = []\n",
    "\n",
    "for K in range(21):\n",
    "    K = K + 1\n",
    "    # Model Building\n",
    "    knn_banknote = KNeighborsClassifier(n_neighbors = K)\n",
    "    \n",
    "    # Fit the model\n",
    "    knn_banknote.fit(x_trg, y_trg)\n",
    "    \n",
    "    # Predicing with model\n",
    "    knn_pred = knn_banknote.predict(x_test)\n",
    "    \n",
    "    # Confusion matrix of kNN model\n",
    "    knn_results = confusion_matrix(y_test, knn_pred)\n",
    "    \n",
    "    # Accuracy score of kNN model\n",
    "    knn_acc_score = accuracy_score(y_test, knn_pred)\n",
    "    \n",
    "    print(\"The accuracy of kNN model for k = \", K,\" is: %0.3f\" % knn_acc_score)\n",
    "    print(\"The confusion matrix is: \\n\", knn_results)\n",
    "    \n",
    "    knn_accuracylist.append(knn_acc_score)\n",
    "    \n",
    "print(\"The maximum accuracy using kNN is: %0.3f\" % max(knn_accuracylist))"
   ]
  },
  {
   "cell_type": "markdown",
   "metadata": {},
   "source": [
    "### Compare with Naive Bayes model"
   ]
  },
  {
   "cell_type": "code",
   "execution_count": 16,
   "metadata": {},
   "outputs": [
    {
     "name": "stdout",
     "output_type": "stream",
     "text": [
      "The accuracy score of Naive Bayes model is:  0.8398058252427184\n",
      "The confusion matrix of Naive Bayes model is: \n",
      " [[195  29]\n",
      " [ 37 151]]\n"
     ]
    }
   ],
   "source": [
    "# Model Building - Naive Bayes\n",
    "naive_banknote = GaussianNB()\n",
    "\n",
    "naive_banknote.fit(x_trg, y_trg)\n",
    "naive_pred = naive_banknote.predict(x_test)\n",
    "naive_results = confusion_matrix(y_test, naive_pred)\n",
    "naive_acc_score = accuracy_score(y_test, naive_pred)\n",
    "print(\"The accuracy score of Naive Bayes model is: \", naive_acc_score)\n",
    "print(\"The confusion matrix of Naive Bayes model is: \\n\", naive_results)"
   ]
  },
  {
   "cell_type": "markdown",
   "metadata": {},
   "source": [
    "### Compare with Logistic Regression model"
   ]
  },
  {
   "cell_type": "code",
   "execution_count": 17,
   "metadata": {},
   "outputs": [
    {
     "name": "stdout",
     "output_type": "stream",
     "text": [
      "The accuracy of Log Reg model on training dataset is: 0.993\n",
      "The accuracy of Log Reg model on test dataset is: 0.988\n",
      "The confusion matrix of Log Reg model is: \n",
      " [[219   5]\n",
      " [  0 188]]\n"
     ]
    }
   ],
   "source": [
    "# Model Building - Logistic Regression\n",
    "log_banknote = LogisticRegression()\n",
    "\n",
    "log_banknote.fit(x_trg, y_trg)\n",
    "print(\"The accuracy of Log Reg model on training dataset is: %0.3f\" % log_banknote.score(x_trg, y_trg))\n",
    "print(\"The accuracy of Log Reg model on test dataset is: %0.3f\" % log_banknote.score(x_test, y_test))\n",
    "\n",
    "log_pred = log_banknote.predict(x_test)\n",
    "log_results = confusion_matrix(y_test, log_pred)\n",
    "print(\"The confusion matrix of Log Reg model is: \\n\", log_results)"
   ]
  },
  {
   "cell_type": "markdown",
   "metadata": {},
   "source": [
    "We have not done feature scaling and encoding because SVM is very sensitive model. The SVM accuracy on training dataset is 0.991 and that on test dataset is 0.983. This shows the SVM model is slightly overfitting.\n",
    "\n",
    "Maximum accuracy of kNN model is 1\n",
    "Maximum accuracy of Naive Bayes model is 0.839\n",
    "Maximum accuracy of Logistic Regression model on training dataset is 0.993 and test dataset is 0.988\n",
    "\n",
    "Thus for this dataset, kNN is the best model."
   ]
  },
  {
   "cell_type": "code",
   "execution_count": null,
   "metadata": {},
   "outputs": [],
   "source": []
  }
 ],
 "metadata": {
  "kernelspec": {
   "display_name": "Python 3",
   "language": "python",
   "name": "python3"
  },
  "language_info": {
   "codemirror_mode": {
    "name": "ipython",
    "version": 3
   },
   "file_extension": ".py",
   "mimetype": "text/x-python",
   "name": "python",
   "nbconvert_exporter": "python",
   "pygments_lexer": "ipython3",
   "version": "3.8.6"
  }
 },
 "nbformat": 4,
 "nbformat_minor": 4
}
